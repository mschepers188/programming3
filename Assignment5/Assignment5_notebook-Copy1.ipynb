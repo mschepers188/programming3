{
 "cells": [
  {
   "cell_type": "code",
   "execution_count": 3,
   "id": "78f16dbd",
   "metadata": {},
   "outputs": [],
   "source": [
    "from pyspark import SparkContext\n",
    "from pyspark.sql.session import SparkSession\n",
    "from pyspark.sql.functions import mean\n",
    "from collections import Counter"
   ]
  },
  {
   "cell_type": "code",
   "execution_count": 4,
   "id": "29f95288",
   "metadata": {},
   "outputs": [],
   "source": [
    "class PSTool:\n",
    "    def pyspark_session(self, host_location):\n",
    "        \"\"\"\n",
    "        Creates and returns spark session object\n",
    "        \"\"\"\n",
    "        sc = SparkContext(host_location)  # Create spark context\n",
    "        spark = SparkSession(sc)  # Create session\n",
    "        return spark\n",
    "\n",
    "    def file_loader(self, path, delim, spark_obj):\n",
    "        data = spark_obj.read.options(delimiter=delim).csv(path)  # load file\n",
    "        data = data\n",
    "        return data\n",
    "\n",
    "\n",
    "if __name__ == \"__main__\":\n",
    "    # Instanciate object\n",
    "    pstool = PSTool()\n",
    "    # start session\n",
    "    spk = pstool.pyspark_session('local')\n",
    "    # load data\n",
    "    path = 'all_bacilli_subset.tsv'\n",
    "    df=pstool.file_loader(path, '\\t', spk)"
   ]
  },
  {
   "cell_type": "code",
   "execution_count": 5,
   "id": "0ab0f026",
   "metadata": {},
   "outputs": [],
   "source": [
    "# 'Protein _accession', 'Sequence_MD5_digest', 'Sequence_length', 'Analysis',\n",
    "# 'Signature_accession', 'Signature_description', 'Start location', 'Stop location',\n",
    "# 'Score', 'Status', 'Date', 'InterPro annotations', 'InterPro annotations' - description (e.g. BRCA2 repeat)\n",
    "#     (GO annotations (e.g. GO:0005515) - optional column; only displayed if –goterms option is switched on)\n",
    "#     (Pathways annotations (e.g. REACT_71) - optional column; only displayed if –pathways option is switched on)"
   ]
  },
  {
   "cell_type": "markdown",
   "id": "17ec03a4",
   "metadata": {},
   "source": [
    "The TSV format presents the match data in columns as follows:\n",
    "\n",
    "    1. Protein accession (e.g. P51587)\n",
    "    2. Sequence MD5 digest (e.g. 14086411a2cdf1c4cba63020e1622579)\n",
    "    3. Sequence length (e.g. 3418)\n",
    "    4. Analysis (e.g. Pfam / PRINTS / Gene3D)\n",
    "    5. Signature accession (e.g. PF09103 / G3DSA:2.40.50.140)\n",
    "    6. Signature description (e.g. BRCA2 repeat profile)\n",
    "    7. Start location\n",
    "    8. Stop location\n",
    "    9. Score - is the e-value (or score) of the match reported by member database method (e.g. 3.1E-52)\n",
    "    10. Status - is the status of the match (T: true)\n",
    "    11. Date - is the date of the run\n",
    "    12. InterPro annotations - accession (e.g. IPR002093)\n",
    "    13. InterPro annotations - description (e.g. BRCA2 repeat)\n",
    "    14. (GO annotations (e.g. GO:0005515) - optional column; only displayed if –goterms option is switched on)\n",
    "    15. (Pathways annotations (e.g. REACT_71)-optional column; only displayed if –pathways option is switched on)\n"
   ]
  },
  {
   "cell_type": "markdown",
   "id": "e20d87ad",
   "metadata": {},
   "source": [
    "# Question 1\n",
    "How many distinct protein annotations are found in the dataset? I.e. how many distinc InterPRO numbers are there?"
   ]
  },
  {
   "cell_type": "code",
   "execution_count": 10,
   "id": "ed9b7157",
   "metadata": {},
   "outputs": [
    {
     "ename": "AssertionError",
     "evalue": "all exprs should be Column",
     "output_type": "error",
     "traceback": [
      "\u001b[1;31m---------------------------------------------------------------------------\u001b[0m",
      "\u001b[1;31mAssertionError\u001b[0m                            Traceback (most recent call last)",
      "\u001b[1;32mC:\\Users\\MARTIN~1\\AppData\\Local\\Temp/ipykernel_7548/1898514708.py\u001b[0m in \u001b[0;36m<module>\u001b[1;34m\u001b[0m\n\u001b[1;32m----> 1\u001b[1;33m \u001b[0mdf\u001b[0m\u001b[1;33m.\u001b[0m\u001b[0mselect\u001b[0m\u001b[1;33m(\u001b[0m\u001b[1;34m\"_c11\"\u001b[0m\u001b[1;33m)\u001b[0m\u001b[1;33m.\u001b[0m\u001b[0mdistinct\u001b[0m\u001b[1;33m(\u001b[0m\u001b[1;33m)\u001b[0m\u001b[1;33m.\u001b[0m\u001b[0magg\u001b[0m\u001b[1;33m(\u001b[0m\u001b[1;34m\"_c11\"\u001b[0m\u001b[1;33m)\u001b[0m\u001b[1;33m.\u001b[0m\u001b[0mshow\u001b[0m\u001b[1;33m(\u001b[0m\u001b[1;33m)\u001b[0m\u001b[1;33m\u001b[0m\u001b[1;33m\u001b[0m\u001b[0m\n\u001b[0m\u001b[0;32m      2\u001b[0m \u001b[1;31m# print(InterPRO_distinc)\u001b[0m\u001b[1;33m\u001b[0m\u001b[1;33m\u001b[0m\u001b[0m\n",
      "\u001b[1;32mC:\\ProgramData\\Anaconda3\\lib\\site-packages\\pyspark\\sql\\dataframe.py\u001b[0m in \u001b[0;36magg\u001b[1;34m(self, *exprs)\u001b[0m\n\u001b[0;32m   2203\u001b[0m         \u001b[1;33m[\u001b[0m\u001b[0mRow\u001b[0m\u001b[1;33m(\u001b[0m\u001b[0mmin\u001b[0m\u001b[1;33m(\u001b[0m\u001b[0mage\u001b[0m\u001b[1;33m)\u001b[0m\u001b[1;33m=\u001b[0m\u001b[1;36m2\u001b[0m\u001b[1;33m)\u001b[0m\u001b[1;33m]\u001b[0m\u001b[1;33m\u001b[0m\u001b[1;33m\u001b[0m\u001b[0m\n\u001b[0;32m   2204\u001b[0m         \"\"\"\n\u001b[1;32m-> 2205\u001b[1;33m         \u001b[1;32mreturn\u001b[0m \u001b[0mself\u001b[0m\u001b[1;33m.\u001b[0m\u001b[0mgroupBy\u001b[0m\u001b[1;33m(\u001b[0m\u001b[1;33m)\u001b[0m\u001b[1;33m.\u001b[0m\u001b[0magg\u001b[0m\u001b[1;33m(\u001b[0m\u001b[1;33m*\u001b[0m\u001b[0mexprs\u001b[0m\u001b[1;33m)\u001b[0m  \u001b[1;31m# type: ignore[arg-type]\u001b[0m\u001b[1;33m\u001b[0m\u001b[1;33m\u001b[0m\u001b[0m\n\u001b[0m\u001b[0;32m   2206\u001b[0m \u001b[1;33m\u001b[0m\u001b[0m\n\u001b[0;32m   2207\u001b[0m     \u001b[1;33m@\u001b[0m\u001b[0msince\u001b[0m\u001b[1;33m(\u001b[0m\u001b[1;36m3.3\u001b[0m\u001b[1;33m)\u001b[0m\u001b[1;33m\u001b[0m\u001b[1;33m\u001b[0m\u001b[0m\n",
      "\u001b[1;32mC:\\ProgramData\\Anaconda3\\lib\\site-packages\\pyspark\\sql\\group.py\u001b[0m in \u001b[0;36magg\u001b[1;34m(self, *exprs)\u001b[0m\n\u001b[0;32m    133\u001b[0m         \u001b[1;32melse\u001b[0m\u001b[1;33m:\u001b[0m\u001b[1;33m\u001b[0m\u001b[1;33m\u001b[0m\u001b[0m\n\u001b[0;32m    134\u001b[0m             \u001b[1;31m# Columns\u001b[0m\u001b[1;33m\u001b[0m\u001b[1;33m\u001b[0m\u001b[0m\n\u001b[1;32m--> 135\u001b[1;33m             \u001b[1;32massert\u001b[0m \u001b[0mall\u001b[0m\u001b[1;33m(\u001b[0m\u001b[0misinstance\u001b[0m\u001b[1;33m(\u001b[0m\u001b[0mc\u001b[0m\u001b[1;33m,\u001b[0m \u001b[0mColumn\u001b[0m\u001b[1;33m)\u001b[0m \u001b[1;32mfor\u001b[0m \u001b[0mc\u001b[0m \u001b[1;32min\u001b[0m \u001b[0mexprs\u001b[0m\u001b[1;33m)\u001b[0m\u001b[1;33m,\u001b[0m \u001b[1;34m\"all exprs should be Column\"\u001b[0m\u001b[1;33m\u001b[0m\u001b[1;33m\u001b[0m\u001b[0m\n\u001b[0m\u001b[0;32m    136\u001b[0m             \u001b[0mexprs\u001b[0m \u001b[1;33m=\u001b[0m \u001b[0mcast\u001b[0m\u001b[1;33m(\u001b[0m\u001b[0mTuple\u001b[0m\u001b[1;33m[\u001b[0m\u001b[0mColumn\u001b[0m\u001b[1;33m,\u001b[0m \u001b[1;33m...\u001b[0m\u001b[1;33m]\u001b[0m\u001b[1;33m,\u001b[0m \u001b[0mexprs\u001b[0m\u001b[1;33m)\u001b[0m\u001b[1;33m\u001b[0m\u001b[1;33m\u001b[0m\u001b[0m\n\u001b[0;32m    137\u001b[0m             \u001b[0mjdf\u001b[0m \u001b[1;33m=\u001b[0m \u001b[0mself\u001b[0m\u001b[1;33m.\u001b[0m\u001b[0m_jgd\u001b[0m\u001b[1;33m.\u001b[0m\u001b[0magg\u001b[0m\u001b[1;33m(\u001b[0m\u001b[0mexprs\u001b[0m\u001b[1;33m[\u001b[0m\u001b[1;36m0\u001b[0m\u001b[1;33m]\u001b[0m\u001b[1;33m.\u001b[0m\u001b[0m_jc\u001b[0m\u001b[1;33m,\u001b[0m \u001b[0m_to_seq\u001b[0m\u001b[1;33m(\u001b[0m\u001b[0mself\u001b[0m\u001b[1;33m.\u001b[0m\u001b[0msession\u001b[0m\u001b[1;33m.\u001b[0m\u001b[0m_sc\u001b[0m\u001b[1;33m,\u001b[0m \u001b[1;33m[\u001b[0m\u001b[0mc\u001b[0m\u001b[1;33m.\u001b[0m\u001b[0m_jc\u001b[0m \u001b[1;32mfor\u001b[0m \u001b[0mc\u001b[0m \u001b[1;32min\u001b[0m \u001b[0mexprs\u001b[0m\u001b[1;33m[\u001b[0m\u001b[1;36m1\u001b[0m\u001b[1;33m:\u001b[0m\u001b[1;33m]\u001b[0m\u001b[1;33m]\u001b[0m\u001b[1;33m)\u001b[0m\u001b[1;33m)\u001b[0m\u001b[1;33m\u001b[0m\u001b[1;33m\u001b[0m\u001b[0m\n",
      "\u001b[1;31mAssertionError\u001b[0m: all exprs should be Column"
     ]
    }
   ],
   "source": [
    "df.select(\"_c11\").agg(\"_c11\")\n",
    "# print(InterPRO_distinc)"
   ]
  },
  {
   "cell_type": "markdown",
   "id": "c16f5b00",
   "metadata": {},
   "source": [
    "# Question 2\n",
    "How many annotations does a protein have on average?"
   ]
  },
  {
   "cell_type": "code",
   "execution_count": 5,
   "id": "ba7e02b6",
   "metadata": {},
   "outputs": [
    {
     "data": {
      "text/plain": [
       "200"
      ]
     },
     "execution_count": 5,
     "metadata": {},
     "output_type": "execute_result"
    }
   ],
   "source": [
    "total_annot = df.select(\"_c11\").count()\n",
    "total_annot"
   ]
  },
  {
   "cell_type": "code",
   "execution_count": 6,
   "id": "0309f6ab",
   "metadata": {},
   "outputs": [
    {
     "name": "stdout",
     "output_type": "stream",
     "text": [
      "3.278688524590164\n"
     ]
    }
   ],
   "source": [
    "avg_annot = total_annot/InterPRO_distinc\n",
    "print(avg_annot)"
   ]
  },
  {
   "cell_type": "markdown",
   "id": "d603d351",
   "metadata": {},
   "source": [
    "# Question 3\n",
    "What is the most common GO Term found?"
   ]
  },
  {
   "cell_type": "code",
   "execution_count": 7,
   "id": "91676d4a",
   "metadata": {},
   "outputs": [],
   "source": [
    "# df.groupBy(\"_c13\").count().show()"
   ]
  },
  {
   "cell_type": "code",
   "execution_count": 8,
   "id": "29f440f8",
   "metadata": {},
   "outputs": [],
   "source": [
    "go_list = []\n",
    "for i in df.filter(df._c13 != '-').select('_c13').collect():\n",
    "    go_list.extend(i[0].split(\"|\"))"
   ]
  },
  {
   "cell_type": "code",
   "execution_count": 9,
   "id": "f032889a",
   "metadata": {},
   "outputs": [
    {
     "data": {
      "text/plain": [
       "'GO:0004743'"
      ]
     },
     "execution_count": 9,
     "metadata": {},
     "output_type": "execute_result"
    }
   ],
   "source": [
    "most_common = max(go_list, key = go_list.count)\n",
    "most_common"
   ]
  },
  {
   "cell_type": "markdown",
   "id": "568fad13",
   "metadata": {},
   "source": [
    "# Question 4\n",
    "What is the average size of an InterPRO feature found in the dataset?"
   ]
  },
  {
   "cell_type": "code",
   "execution_count": 10,
   "id": "76858dae",
   "metadata": {},
   "outputs": [],
   "source": [
    "# df.select(\"_c2\").show()"
   ]
  },
  {
   "cell_type": "code",
   "execution_count": 11,
   "id": "83d48969",
   "metadata": {},
   "outputs": [],
   "source": [
    "from pyspark.sql.functions import abs\n",
    "\n",
    "df1 = df.withColumn('diff', (df._c8 - df._c7))\n",
    "df1 = df1.withColumn('diff', abs(df1.diff))\n",
    "# df2.select('abs').show()"
   ]
  },
  {
   "cell_type": "code",
   "execution_count": 12,
   "id": "bda9694e",
   "metadata": {},
   "outputs": [
    {
     "data": {
      "text/plain": [
       "275.50452025394884"
      ]
     },
     "execution_count": 12,
     "metadata": {},
     "output_type": "execute_result"
    }
   ],
   "source": [
    "mean_size = df1.select(mean('diff')).collect()\n",
    "mean_size_float = float(str(mean_size[0]).replace('Row(avg(diff)=', '').replace(')', ''))\n",
    "mean_size_float"
   ]
  },
  {
   "cell_type": "markdown",
   "id": "90c2e6fb",
   "metadata": {},
   "source": [
    "# Question 5\n",
    "What is the top 10 most common InterPRO features?"
   ]
  },
  {
   "cell_type": "code",
   "execution_count": 13,
   "id": "0042c37c",
   "metadata": {},
   "outputs": [
    {
     "data": {
      "text/plain": [
       "[('IPR001697', 10),\n",
       " ('IPR005814', 6),\n",
       " ('IPR000456', 5),\n",
       " ('IPR001867', 4),\n",
       " ('IPR004358', 4),\n",
       " ('IPR003776', 3),\n",
       " ('IPR001789', 3),\n",
       " ('IPR000551', 3),\n",
       " ('IPR000515', 3),\n",
       " ('IPR036890', 3)]"
      ]
     },
     "execution_count": 13,
     "metadata": {},
     "output_type": "execute_result"
    }
   ],
   "source": [
    "def get_n_most_comm(df, colname, n):\n",
    "    interPRO_feat = []\n",
    "    for i in df.filter(df[colname] != '-').select(colname).collect():\n",
    "        interPRO_feat.extend(i)\n",
    "    \n",
    "    c = Counter(interPRO_feat)\n",
    "    return c.most_common(n)\n",
    "    \n",
    "    \n",
    "most_common_feats = get_n_most_comm(df, '_c11', 10)\n",
    "most_common_feats"
   ]
  },
  {
   "cell_type": "markdown",
   "id": "6f572a90",
   "metadata": {},
   "source": [
    "# Question 6\n",
    "If you select InterPRO features that are almost the same size (within 90-100%) as the protein itself, what is the top10 then?"
   ]
  },
  {
   "cell_type": "code",
   "execution_count": 14,
   "id": "8ab8b02b",
   "metadata": {},
   "outputs": [
    {
     "name": "stdout",
     "output_type": "stream",
     "text": [
      "Initial shape 200 16\n",
      "End shape 78 17\n"
     ]
    },
    {
     "data": {
      "text/plain": [
       "['IPR001867',\n",
       " 'IPR005814',\n",
       " 'IPR000456',\n",
       " 'IPR036890',\n",
       " 'IPR003594',\n",
       " 'IPR004358',\n",
       " 'IPR003776',\n",
       " 'IPR036244',\n",
       " 'IPR036373',\n",
       " 'IPR000515']"
      ]
     },
     "execution_count": 14,
     "metadata": {},
     "output_type": "execute_result"
    }
   ],
   "source": [
    "def filter90(df):\n",
    "    print('Initial shape', df.count(), len(df.columns))\n",
    "    # df1.select('diff').show()\n",
    "    dfx = df.withColumn('rel_size', (df.diff / df._c2))\n",
    "    dfx = dfx.filter(dfx.rel_size >= 0.9)\n",
    "    print('End shape', dfx.count(), len(dfx.columns))\n",
    "    return dfx\n",
    "\n",
    "df_filt90 = filter90(df1)\n",
    "most_common_feats_large = [i[0] for i in get_n_most_comm(df_filt90, '_c11', 10)]\n",
    "most_common_feats_large "
   ]
  },
  {
   "cell_type": "markdown",
   "id": "0ec2ccf9",
   "metadata": {},
   "source": [
    "# Question 7\n",
    "If you look at those features which also have textual annotation, what is the top 10 most common word found in that annotation?\n",
    "https://stackoverflow.com/questions/65808504/spark-find-most-common-words-in-dataset"
   ]
  },
  {
   "cell_type": "code",
   "execution_count": 15,
   "id": "54168032",
   "metadata": {},
   "outputs": [
    {
     "name": "stdout",
     "output_type": "stream",
     "text": [
      "['domain', 'superfamily', 'Pyruvate', 'protein', 'kinase', 'kinase,', 'C-terminal', 'Signal', 'transduction', 'Ribosomal']\n"
     ]
    }
   ],
   "source": [
    "# df.select('_c12').show()\n",
    "def get_most_common_words(df, column, sep, n):\n",
    "    annot_list = []\n",
    "    for i in df.filter(df[column] != '-').select(column).collect():\n",
    "        annot_list.extend(i[0].split(sep))\n",
    "\n",
    "    c = Counter(annot_list)\n",
    "    return c.most_common(n)\n",
    "\n",
    "\n",
    "top10words = [i[0] for i in get_most_common_words(df, '_c12', \" \", 10)]\n",
    "\n",
    "print(top10words)"
   ]
  },
  {
   "cell_type": "markdown",
   "id": "eb51a499",
   "metadata": {},
   "source": [
    "# Question 8\n",
    "And the top 10 least common?"
   ]
  },
  {
   "cell_type": "code",
   "execution_count": 26,
   "id": "bb7f274d",
   "metadata": {},
   "outputs": [
    {
     "name": "stdout",
     "output_type": "stream",
     "text": [
      "['Bacteriocin', 'biosynthesis,', 'cyclodehydratase', 'Thiazole/oxazole-forming', 'peptide', 'maturase,', 'SagD', 'component', 'Transcriptional', 'regulatory']\n",
      "== Physical Plan ==\n",
      "FileScan csv [_c0#17,_c1#18,_c2#19,_c3#20,_c4#21,_c5#22,_c6#23,_c7#24,_c8#25,_c9#26,_c10#27,_c11#28,_c12#29,_c13#30,_c14#31] Batched: false, DataFilters: [], Format: CSV, Location: InMemoryFileIndex(1 paths)[file:/C:/Users/Martin Schepers/Documents/GitHub/programming3/Assignmen..., PartitionFilters: [], PushedFilters: [], ReadSchema: struct<_c0:string,_c1:string,_c2:string,_c3:string,_c4:string,_c5:string,_c6:string,_c7:string,_c...\n",
      "\n",
      "\n"
     ]
    }
   ],
   "source": [
    "def get_least_common_words(df, column, sep, n):\n",
    "    annot_list = []\n",
    "    for i in df.filter(df[column] != '-').select(column).collect():\n",
    "        annot_list.extend(i[0].split(sep))\n",
    "\n",
    "    c = Counter(annot_list)\n",
    "    return sorted(c.items(), key=lambda x: x[1])[:n]\n",
    "\n",
    "\n",
    "bottom10words = [i[0] for i in get_least_common_words(df, '_c12', \" \", 10)]\n",
    "print(bottom10words)\n",
    "df.explain()"
   ]
  },
  {
   "cell_type": "markdown",
   "id": "7e1312e4",
   "metadata": {},
   "source": [
    "# Question 9\n",
    "Combining your answers for Q6 and Q7, what are the 10 most commons words found for the largest InterPRO features?"
   ]
  },
  {
   "cell_type": "code",
   "execution_count": 25,
   "id": "06bf970c",
   "metadata": {},
   "outputs": [
    {
     "data": {
      "text/plain": [
       "['domain',\n",
       " 'superfamily',\n",
       " 'protein',\n",
       " 'Histidine',\n",
       " 'kinase/HSP90-like',\n",
       " 'ATPase',\n",
       " 'Ribosomal',\n",
       " 'L17',\n",
       " 'DNA-binding',\n",
       " 'MetI-like']"
      ]
     },
     "execution_count": 25,
     "metadata": {},
     "output_type": "execute_result"
    }
   ],
   "source": [
    "top10words_large = [i[0] for i in get_most_common_words(df_filt90, '_c12', \" \", 10)]\n",
    "top10words_large"
   ]
  },
  {
   "cell_type": "markdown",
   "id": "25dc5b97",
   "metadata": {},
   "source": [
    "# Question 10\n",
    "What is the coefficient of correlation ( 𝑅2 ) between the size of the protein and the number of features found?"
   ]
  },
  {
   "cell_type": "code",
   "execution_count": null,
   "id": "92367b6b",
   "metadata": {},
   "outputs": [],
   "source": []
  }
 ],
 "metadata": {
  "kernelspec": {
   "display_name": "Python 3 (ipykernel)",
   "language": "python",
   "name": "python3"
  },
  "language_info": {
   "codemirror_mode": {
    "name": "ipython",
    "version": 3
   },
   "file_extension": ".py",
   "mimetype": "text/x-python",
   "name": "python",
   "nbconvert_exporter": "python",
   "pygments_lexer": "ipython3",
   "version": "3.9.7"
  }
 },
 "nbformat": 4,
 "nbformat_minor": 5
}
