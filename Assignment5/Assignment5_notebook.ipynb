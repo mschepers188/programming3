{
 "cells": [
  {
   "cell_type": "code",
   "execution_count": 1,
   "id": "78f16dbd",
   "metadata": {},
   "outputs": [],
   "source": [
    "from pyspark import SparkContext\n",
    "from pyspark.sql.session import SparkSession\n",
    "from pyspark.sql.functions import mean, abs\n",
    "from collections import Counter\n",
    "import pyspark.sql.functions as f\n",
    "from pyspark.sql.types import FloatType\n",
    "import pandas as pd"
   ]
  },
  {
   "cell_type": "code",
   "execution_count": 2,
   "id": "29f95288",
   "metadata": {},
   "outputs": [],
   "source": [
    "class PSTool:\n",
    "    def pyspark_session(self, host_location):\n",
    "        \"\"\"\n",
    "        Creates and returns spark session object\n",
    "        \"\"\"\n",
    "        sc = SparkContext(host_location)  # Create spark context\n",
    "        spark = SparkSession(sc)  # Create session\n",
    "        return spark\n",
    "\n",
    "    def file_loader(self, path, delim, spark_obj):\n",
    "        data = spark_obj.read.options(delimiter=delim).csv(path)  # load file\n",
    "        data = data\n",
    "        return data\n",
    "\n",
    "\n",
    "if __name__ == \"__main__\":\n",
    "    # Instanciate object\n",
    "    pstool = PSTool()\n",
    "    # start session\n",
    "    spk = pstool.pyspark_session('local')\n",
    "    # load data\n",
    "    path = 'all_bacilli_subset.tsv'\n",
    "    df=pstool.file_loader(path, '\\t', spk)"
   ]
  },
  {
   "cell_type": "markdown",
   "id": "17ec03a4",
   "metadata": {},
   "source": [
    "The TSV format presents the match data in columns as follows:\n",
    "\n",
    "    1. Protein accession (e.g. P51587)\n",
    "    2. Sequence MD5 digest (e.g. 14086411a2cdf1c4cba63020e1622579)\n",
    "    3. Sequence length (e.g. 3418)\n",
    "    4. Analysis (e.g. Pfam / PRINTS / Gene3D)\n",
    "    5. Signature accession (e.g. PF09103 / G3DSA:2.40.50.140)\n",
    "    6. Signature description (e.g. BRCA2 repeat profile)\n",
    "    7. Start location\n",
    "    8. Stop location\n",
    "    9. Score - is the e-value (or score) of the match reported by member database method (e.g. 3.1E-52)\n",
    "    10. Status - is the status of the match (T: true)\n",
    "    11. Date - is the date of the run\n",
    "    12. InterPro annotations - accession (e.g. IPR002093)\n",
    "    13. InterPro annotations - description (e.g. BRCA2 repeat)\n",
    "    14. (GO annotations (e.g. GO:0005515) - optional column; only displayed if –goterms option is switched on)\n",
    "    15. (Pathways annotations (e.g. REACT_71)-optional column; only displayed if –pathways option is switched on)\n"
   ]
  },
  {
   "cell_type": "code",
   "execution_count": 3,
   "id": "1546cd0e",
   "metadata": {},
   "outputs": [
    {
     "data": {
      "text/plain": [
       "DataFrame[_c0: string, _c1: string, _c2: string, _c3: string, _c4: string, _c5: string, _c6: string, _c7: string, _c8: string, _c9: string, _c10: string, _c11: string, _c12: string, _c13: string, _c14: string]"
      ]
     },
     "execution_count": 3,
     "metadata": {},
     "output_type": "execute_result"
    }
   ],
   "source": [
    "df"
   ]
  },
  {
   "cell_type": "markdown",
   "id": "e20d87ad",
   "metadata": {},
   "source": [
    "# Question 1\n",
    "How many distinct protein annotations are found in the dataset? I.e. how many distinc InterPRO numbers are there?"
   ]
  },
  {
   "cell_type": "code",
   "execution_count": 4,
   "id": "ed9b7157",
   "metadata": {},
   "outputs": [
    {
     "data": {
      "text/plain": [
       "60"
      ]
     },
     "execution_count": 4,
     "metadata": {},
     "output_type": "execute_result"
    }
   ],
   "source": [
    "# df.select(\"_c11\").distinct().count().explain()\n",
    "Q1_exp = df.select(\"_c11\").filter(df._c11 != '-').distinct()._jdf.queryExecution().simpleString().replace('\\n', '')\n",
    "Q1_answer = df.select(\"_c11\").filter(df._c11 != '-').distinct().count()\n",
    "Q1_answer"
   ]
  },
  {
   "cell_type": "markdown",
   "id": "c16f5b00",
   "metadata": {},
   "source": [
    "# Question 2\n",
    "How many annotations does a protein have on average?"
   ]
  },
  {
   "cell_type": "code",
   "execution_count": 5,
   "id": "ba7e02b6",
   "metadata": {},
   "outputs": [
    {
     "data": {
      "text/plain": [
       "1.8"
      ]
     },
     "execution_count": 5,
     "metadata": {},
     "output_type": "execute_result"
    }
   ],
   "source": [
    "Q2_exp = df.select(\"_c11\").filter(df._c11 != '-').distinct()._jdf.queryExecution().simpleString().replace('\\n', '')\n",
    "# Q2_2_exp = df.select(\"_c11\").filter(df._c11 != '-').explain()\n",
    "Q2_answer = df.select(\"_c11\").filter(df._c11 != '-').count()/df.select(\"_c11\").filter(df._c11 != '-').distinct().count()\n",
    "Q2_answer"
   ]
  },
  {
   "cell_type": "markdown",
   "id": "d603d351",
   "metadata": {},
   "source": [
    "# Question 3\n",
    "What is the most common GO Term found?"
   ]
  },
  {
   "cell_type": "code",
   "execution_count": 6,
   "id": "76d617f4",
   "metadata": {},
   "outputs": [
    {
     "data": {
      "text/plain": [
       "'GO:0071973'"
      ]
     },
     "execution_count": 6,
     "metadata": {},
     "output_type": "execute_result"
    }
   ],
   "source": [
    "from pyspark.sql.functions import *\n",
    "Q3_exp = df.withColumn(\"_c13\",explode(split(col(\"_c13\"),'\\\\|'))).select(\"_c13\").filter(df._c13 != '-').agg({'_c13': 'max'})._jdf.queryExecution().simpleString().replace('\\n', '')\n",
    "Q3_answer = df.withColumn(\"_c13\",explode(split(col(\"_c13\"),'\\\\|'))).select(\"_c13\").filter(df._c13 != '-').agg({'_c13': 'max'}).collect()[0][0]\n",
    "Q3_answer"
   ]
  },
  {
   "cell_type": "markdown",
   "id": "568fad13",
   "metadata": {},
   "source": [
    "# Question 4\n",
    "What is the average size of an InterPRO feature found in the dataset?"
   ]
  },
  {
   "cell_type": "code",
   "execution_count": 7,
   "id": "83d48969",
   "metadata": {},
   "outputs": [
    {
     "data": {
      "text/plain": [
       "275.50452025394884"
      ]
     },
     "execution_count": 7,
     "metadata": {},
     "output_type": "execute_result"
    }
   ],
   "source": [
    "Q4_exp = df.select(abs(df._c7 - df._c8)).agg({'abs((_c7 - _c8))': 'mean'})._jdf.queryExecution().simpleString().replace('\\n', '')\n",
    "Q4_answer = df.select(abs(df._c7 - df._c8)).agg({'abs((_c7 - _c8))': 'mean'}).collect()[0][0]\n",
    "Q4_answer"
   ]
  },
  {
   "cell_type": "markdown",
   "id": "90c2e6fb",
   "metadata": {},
   "source": [
    "# Question 5\n",
    "What is the top 10 most common InterPRO features?"
   ]
  },
  {
   "cell_type": "code",
   "execution_count": 8,
   "id": "8b6d2f04",
   "metadata": {},
   "outputs": [
    {
     "data": {
      "text/plain": [
       "['IPR001697',\n",
       " 'IPR005814',\n",
       " 'IPR000456',\n",
       " 'IPR001867',\n",
       " 'IPR004358',\n",
       " 'IPR000515',\n",
       " 'IPR001789',\n",
       " 'IPR036890',\n",
       " 'IPR003594',\n",
       " 'IPR015963']"
      ]
     },
     "execution_count": 8,
     "metadata": {},
     "output_type": "execute_result"
    }
   ],
   "source": [
    "Q5_exp = df.filter(df._c11 != '-').groupBy('_c11').count()._jdf.queryExecution().simpleString().replace('\\n', '')\n",
    "\n",
    "df_g = df.filter(df._c11 != '-').groupBy('_c11').count()\n",
    "Q5_answer = df_g.orderBy(df_g['count'].desc()).head(10)\n",
    "\n",
    "Q5_answer = [Q5_answer[n].__getitem__('_c11') for n, i in enumerate(Q5_answer)]\n",
    "Q5_answer"
   ]
  },
  {
   "cell_type": "markdown",
   "id": "6f572a90",
   "metadata": {},
   "source": [
    "# Question 6\n",
    "If you select InterPRO features that are almost the same size (within 90-100%) as the protein itself, what is the top10 then?"
   ]
  },
  {
   "cell_type": "code",
   "execution_count": 9,
   "id": "fa52f6cc",
   "metadata": {},
   "outputs": [
    {
     "data": {
      "text/plain": [
       "['IPR036890',\n",
       " 'IPR005814',\n",
       " 'IPR003594',\n",
       " 'IPR004358',\n",
       " 'IPR001867',\n",
       " 'IPR000456',\n",
       " 'IPR035906',\n",
       " 'IPR007466',\n",
       " 'IPR015963',\n",
       " 'IPR036393']"
      ]
     },
     "execution_count": 9,
     "metadata": {},
     "output_type": "execute_result"
    }
   ],
   "source": [
    "Q6_exp = df.withColumn('perc', (df._c7 - df._c8) / df._c2).sort('perc')._jdf.queryExecution().simpleString().replace('\\n', '')\n",
    "df_2 = df.withColumn('perc', (df._c7 - df._c8) / df._c2).sort('perc')\n",
    "Q6_answer = df_2.filter(df._c11 != '-').filter(df_2.perc > 0.9).groupBy('_c11').count().sort('count', ascending = False).head(10)\n",
    "Q6_answer = [Q6_answer[n].__getitem__('_c11') for n, i in enumerate(Q6_answer)]\n",
    "Q6_answer"
   ]
  },
  {
   "cell_type": "markdown",
   "id": "0ec2ccf9",
   "metadata": {},
   "source": [
    "# Question 7\n",
    "If you look at those features which also have textual annotation, what is the top 10 most common word found in that annotation?\n",
    "https://stackoverflow.com/questions/65808504/spark-find-most-common-words-in-dataset"
   ]
  },
  {
   "cell_type": "code",
   "execution_count": 10,
   "id": "ccfd6928",
   "metadata": {},
   "outputs": [
    {
     "data": {
      "text/plain": [
       "['domain',\n",
       " 'superfamily',\n",
       " 'Pyruvate',\n",
       " 'protein',\n",
       " 'kinase',\n",
       " 'kinase,',\n",
       " 'C-terminal',\n",
       " 'L17',\n",
       " 'Histidine',\n",
       " 'transduction']"
      ]
     },
     "execution_count": 10,
     "metadata": {},
     "output_type": "execute_result"
    }
   ],
   "source": [
    "Q7_exp = df.filter(df._c12 != '-').select('_c12').withColumn(\"_c12\",explode(split(col(\"_c12\"),' '))).groupBy('_c12').count().sort('count', ascending = False)._jdf.queryExecution().simpleString().replace('\\n', '')\n",
    "Q7_answer = df.filter(df._c12 != '-').select('_c12').withColumn(\"_c12\",explode(split(col(\"_c12\"),' '))).groupBy('_c12').count().sort('count', ascending = False).head(10)\n",
    "Q7_answer = [Q7_answer[n].__getitem__('_c12') for n, i in enumerate(Q7_answer)]\n",
    "Q7_answer"
   ]
  },
  {
   "cell_type": "markdown",
   "id": "eb51a499",
   "metadata": {},
   "source": [
    "# Question 8\n",
    "And the top 10 least common?"
   ]
  },
  {
   "cell_type": "code",
   "execution_count": 11,
   "id": "bb7f274d",
   "metadata": {},
   "outputs": [
    {
     "data": {
      "text/plain": [
       "['GAF',\n",
       " 'TipAS',\n",
       " 'biosynthesis,',\n",
       " 'isomerase',\n",
       " 'mobile',\n",
       " 'DUF1657',\n",
       " 'major',\n",
       " 'component',\n",
       " 'Bacteriocin',\n",
       " 'ArtM/GltK/GlnP/TcyL/YhdX-like']"
      ]
     },
     "execution_count": 11,
     "metadata": {},
     "output_type": "execute_result"
    }
   ],
   "source": [
    "Q8_exp = df.filter(df._c12 != '-').select('_c12').withColumn(\"_c12\",explode(split(col(\"_c12\"),' '))).groupBy('_c12').count().sort('count', ascending = True)._jdf.queryExecution().simpleString().replace('\\n', '')\n",
    "Q8_answer = df.filter(df._c12 != '-').select('_c12').withColumn(\"_c12\",explode(split(col(\"_c12\"),' '))).groupBy('_c12').count().sort('count', ascending = True).head(10)\n",
    "Q8_answer = [Q8_answer[n].__getitem__('_c12') for n, i in enumerate(Q8_answer)]\n",
    "Q8_answer"
   ]
  },
  {
   "cell_type": "markdown",
   "id": "7e1312e4",
   "metadata": {},
   "source": [
    "# Question 9\n",
    "Combining your answers for Q6 and Q7, what are the 10 most commons words found for the largest InterPRO features?"
   ]
  },
  {
   "cell_type": "code",
   "execution_count": 12,
   "id": "06bf970c",
   "metadata": {},
   "outputs": [
    {
     "data": {
      "text/plain": [
       "['superfamily',\n",
       " 'kinase/HSP90-like',\n",
       " 'ATPase',\n",
       " 'Histidine',\n",
       " 'Aminotransferase',\n",
       " 'class-III',\n",
       " 'L17',\n",
       " 'protein',\n",
       " 'Ribosomal',\n",
       " 'kinase-related']"
      ]
     },
     "execution_count": 12,
     "metadata": {},
     "output_type": "execute_result"
    }
   ],
   "source": [
    "Q9_exp = df.where(f.col('_c11').isin(Q6_answer)).filter(df._c12 != '-').select('_c12').withColumn(\"_c12\",explode(split(col(\"_c12\"),' '))).groupBy('_c12').count().sort('count', ascending = False)._jdf.queryExecution().simpleString().replace('\\n', '')\n",
    "df3 = df.where(f.col('_c11').isin(Q6_answer)).filter(df._c12 != '-').select('_c12').withColumn(\"_c12\",explode(split(col(\"_c12\"),' '))).groupBy('_c12').count().sort('count', ascending = False).head(10)\n",
    "Q9_answer = [df3[n].__getitem__('_c12') for n, i in enumerate(df3)]\n",
    "Q9_answer"
   ]
  },
  {
   "cell_type": "markdown",
   "id": "25dc5b97",
   "metadata": {},
   "source": [
    "# Question 10\n",
    "What is the coefficient of correlation ( 𝑅2 ) between the size of the protein and the number of features found?"
   ]
  },
  {
   "cell_type": "code",
   "execution_count": 13,
   "id": "92367b6b",
   "metadata": {},
   "outputs": [
    {
     "data": {
      "text/plain": [
       "0.14455840022857916"
      ]
     },
     "execution_count": 13,
     "metadata": {},
     "output_type": "execute_result"
    }
   ],
   "source": [
    "Q10_exp = df.select(df._c0,df._c11,df._c2).filter(df._c11 != \"-\").groupby(df._c0,\"_c2\").count()._jdf.queryExecution().simpleString().replace('\\n', '')\n",
    "Q10 = df.select(df._c0,df._c11,df._c2).filter(df._c11 != \"-\").groupby(df._c0,\"_c2\").count()\n",
    "\n",
    "Q10_answer = Q10.withColumn('_c2' , Q10['_c2'].cast(FloatType()))\n",
    "Q10_answer = Q10_answer.corr('_c2', 'count')**2\n",
    "Q10_answer"
   ]
  },
  {
   "cell_type": "markdown",
   "id": "953ddd08",
   "metadata": {},
   "source": [
    "## Writing to CSV"
   ]
  },
  {
   "cell_type": "code",
   "execution_count": 14,
   "id": "723fdb43",
   "metadata": {},
   "outputs": [
    {
     "data": {
      "text/html": [
       "<div>\n",
       "<style scoped>\n",
       "    .dataframe tbody tr th:only-of-type {\n",
       "        vertical-align: middle;\n",
       "    }\n",
       "\n",
       "    .dataframe tbody tr th {\n",
       "        vertical-align: top;\n",
       "    }\n",
       "\n",
       "    .dataframe thead th {\n",
       "        text-align: right;\n",
       "    }\n",
       "</style>\n",
       "<table border=\"1\" class=\"dataframe\">\n",
       "  <thead>\n",
       "    <tr style=\"text-align: right;\">\n",
       "      <th></th>\n",
       "      <th>Questnum</th>\n",
       "      <th>Answers</th>\n",
       "      <th>Explains</th>\n",
       "    </tr>\n",
       "  </thead>\n",
       "  <tbody>\n",
       "    <tr>\n",
       "      <th>0</th>\n",
       "      <td>1</td>\n",
       "      <td>60</td>\n",
       "      <td>== Physical Plan ==AdaptiveSparkPlan isFinalPl...</td>\n",
       "    </tr>\n",
       "    <tr>\n",
       "      <th>1</th>\n",
       "      <td>2</td>\n",
       "      <td>1.8</td>\n",
       "      <td>== Physical Plan ==AdaptiveSparkPlan isFinalPl...</td>\n",
       "    </tr>\n",
       "    <tr>\n",
       "      <th>2</th>\n",
       "      <td>3</td>\n",
       "      <td>GO:0071973</td>\n",
       "      <td>== Physical Plan ==AdaptiveSparkPlan isFinalPl...</td>\n",
       "    </tr>\n",
       "    <tr>\n",
       "      <th>3</th>\n",
       "      <td>4</td>\n",
       "      <td>275.50452</td>\n",
       "      <td>== Physical Plan ==AdaptiveSparkPlan isFinalPl...</td>\n",
       "    </tr>\n",
       "    <tr>\n",
       "      <th>4</th>\n",
       "      <td>5</td>\n",
       "      <td>[IPR001697, IPR005814, IPR000456, IPR001867, I...</td>\n",
       "      <td>== Physical Plan ==AdaptiveSparkPlan isFinalPl...</td>\n",
       "    </tr>\n",
       "    <tr>\n",
       "      <th>5</th>\n",
       "      <td>6</td>\n",
       "      <td>[IPR036890, IPR005814, IPR003594, IPR004358, I...</td>\n",
       "      <td>== Physical Plan ==AdaptiveSparkPlan isFinalPl...</td>\n",
       "    </tr>\n",
       "    <tr>\n",
       "      <th>6</th>\n",
       "      <td>7</td>\n",
       "      <td>[domain, superfamily, Pyruvate, protein, kinas...</td>\n",
       "      <td>== Physical Plan ==AdaptiveSparkPlan isFinalPl...</td>\n",
       "    </tr>\n",
       "    <tr>\n",
       "      <th>7</th>\n",
       "      <td>8</td>\n",
       "      <td>[GAF, TipAS, biosynthesis,, isomerase, mobile,...</td>\n",
       "      <td>== Physical Plan ==AdaptiveSparkPlan isFinalPl...</td>\n",
       "    </tr>\n",
       "    <tr>\n",
       "      <th>8</th>\n",
       "      <td>9</td>\n",
       "      <td>[superfamily, kinase/HSP90-like, ATPase, Histi...</td>\n",
       "      <td>== Physical Plan ==AdaptiveSparkPlan isFinalPl...</td>\n",
       "    </tr>\n",
       "    <tr>\n",
       "      <th>9</th>\n",
       "      <td>10</td>\n",
       "      <td>0.144558</td>\n",
       "      <td>== Physical Plan ==AdaptiveSparkPlan isFinalPl...</td>\n",
       "    </tr>\n",
       "  </tbody>\n",
       "</table>\n",
       "</div>"
      ],
      "text/plain": [
       "   Questnum                                            Answers  \\\n",
       "0         1                                                 60   \n",
       "1         2                                                1.8   \n",
       "2         3                                         GO:0071973   \n",
       "3         4                                          275.50452   \n",
       "4         5  [IPR001697, IPR005814, IPR000456, IPR001867, I...   \n",
       "5         6  [IPR036890, IPR005814, IPR003594, IPR004358, I...   \n",
       "6         7  [domain, superfamily, Pyruvate, protein, kinas...   \n",
       "7         8  [GAF, TipAS, biosynthesis,, isomerase, mobile,...   \n",
       "8         9  [superfamily, kinase/HSP90-like, ATPase, Histi...   \n",
       "9        10                                           0.144558   \n",
       "\n",
       "                                            Explains  \n",
       "0  == Physical Plan ==AdaptiveSparkPlan isFinalPl...  \n",
       "1  == Physical Plan ==AdaptiveSparkPlan isFinalPl...  \n",
       "2  == Physical Plan ==AdaptiveSparkPlan isFinalPl...  \n",
       "3  == Physical Plan ==AdaptiveSparkPlan isFinalPl...  \n",
       "4  == Physical Plan ==AdaptiveSparkPlan isFinalPl...  \n",
       "5  == Physical Plan ==AdaptiveSparkPlan isFinalPl...  \n",
       "6  == Physical Plan ==AdaptiveSparkPlan isFinalPl...  \n",
       "7  == Physical Plan ==AdaptiveSparkPlan isFinalPl...  \n",
       "8  == Physical Plan ==AdaptiveSparkPlan isFinalPl...  \n",
       "9  == Physical Plan ==AdaptiveSparkPlan isFinalPl...  "
      ]
     },
     "execution_count": 14,
     "metadata": {},
     "output_type": "execute_result"
    }
   ],
   "source": [
    "Questnum = list(range(1,11))\n",
    "Answers = [Q1_answer, Q2_answer, Q3_answer, Q4_answer, Q5_answer, Q6_answer, Q7_answer, Q8_answer, Q9_answer, Q10_answer]\n",
    "Explains = [Q1_exp, Q2_exp, Q3_exp, Q4_exp, Q5_exp, Q6_exp, Q7_exp, Q8_exp, Q9_exp, Q10_exp]\n",
    "\n",
    "zipped = list(zip(Questnum, Answers, Explains))\n",
    "data = pd.DataFrame(zipped, columns = ['Questnum', 'Answers', 'Explains'])\n",
    "data"
   ]
  },
  {
   "cell_type": "code",
   "execution_count": 15,
   "id": "ebb454a1",
   "metadata": {},
   "outputs": [],
   "source": [
    "data.to_csv(\"assignment5.csv\",index=False)"
   ]
  },
  {
   "cell_type": "code",
   "execution_count": 17,
   "id": "eb13ce17",
   "metadata": {},
   "outputs": [
    {
     "data": {
      "text/html": [
       "<div>\n",
       "<style scoped>\n",
       "    .dataframe tbody tr th:only-of-type {\n",
       "        vertical-align: middle;\n",
       "    }\n",
       "\n",
       "    .dataframe tbody tr th {\n",
       "        vertical-align: top;\n",
       "    }\n",
       "\n",
       "    .dataframe thead th {\n",
       "        text-align: right;\n",
       "    }\n",
       "</style>\n",
       "<table border=\"1\" class=\"dataframe\">\n",
       "  <thead>\n",
       "    <tr style=\"text-align: right;\">\n",
       "      <th></th>\n",
       "      <th>Questnum</th>\n",
       "      <th>Answers</th>\n",
       "      <th>Explains</th>\n",
       "    </tr>\n",
       "  </thead>\n",
       "  <tbody>\n",
       "    <tr>\n",
       "      <th>0</th>\n",
       "      <td>1</td>\n",
       "      <td>60</td>\n",
       "      <td>== Physical Plan ==AdaptiveSparkPlan isFinalPl...</td>\n",
       "    </tr>\n",
       "    <tr>\n",
       "      <th>1</th>\n",
       "      <td>2</td>\n",
       "      <td>1.8</td>\n",
       "      <td>== Physical Plan ==AdaptiveSparkPlan isFinalPl...</td>\n",
       "    </tr>\n",
       "    <tr>\n",
       "      <th>2</th>\n",
       "      <td>3</td>\n",
       "      <td>GO:0071973</td>\n",
       "      <td>== Physical Plan ==AdaptiveSparkPlan isFinalPl...</td>\n",
       "    </tr>\n",
       "    <tr>\n",
       "      <th>3</th>\n",
       "      <td>4</td>\n",
       "      <td>275.50452025394884</td>\n",
       "      <td>== Physical Plan ==AdaptiveSparkPlan isFinalPl...</td>\n",
       "    </tr>\n",
       "    <tr>\n",
       "      <th>4</th>\n",
       "      <td>5</td>\n",
       "      <td>['IPR001697', 'IPR005814', 'IPR000456', 'IPR00...</td>\n",
       "      <td>== Physical Plan ==AdaptiveSparkPlan isFinalPl...</td>\n",
       "    </tr>\n",
       "    <tr>\n",
       "      <th>5</th>\n",
       "      <td>6</td>\n",
       "      <td>['IPR036890', 'IPR005814', 'IPR003594', 'IPR00...</td>\n",
       "      <td>== Physical Plan ==AdaptiveSparkPlan isFinalPl...</td>\n",
       "    </tr>\n",
       "    <tr>\n",
       "      <th>6</th>\n",
       "      <td>7</td>\n",
       "      <td>['domain', 'superfamily', 'Pyruvate', 'protein...</td>\n",
       "      <td>== Physical Plan ==AdaptiveSparkPlan isFinalPl...</td>\n",
       "    </tr>\n",
       "    <tr>\n",
       "      <th>7</th>\n",
       "      <td>8</td>\n",
       "      <td>['GAF', 'TipAS', 'biosynthesis,', 'isomerase',...</td>\n",
       "      <td>== Physical Plan ==AdaptiveSparkPlan isFinalPl...</td>\n",
       "    </tr>\n",
       "    <tr>\n",
       "      <th>8</th>\n",
       "      <td>9</td>\n",
       "      <td>['superfamily', 'kinase/HSP90-like', 'ATPase',...</td>\n",
       "      <td>== Physical Plan ==AdaptiveSparkPlan isFinalPl...</td>\n",
       "    </tr>\n",
       "    <tr>\n",
       "      <th>9</th>\n",
       "      <td>10</td>\n",
       "      <td>0.14455840022857916</td>\n",
       "      <td>== Physical Plan ==AdaptiveSparkPlan isFinalPl...</td>\n",
       "    </tr>\n",
       "  </tbody>\n",
       "</table>\n",
       "</div>"
      ],
      "text/plain": [
       "   Questnum                                            Answers  \\\n",
       "0         1                                                 60   \n",
       "1         2                                                1.8   \n",
       "2         3                                         GO:0071973   \n",
       "3         4                                 275.50452025394884   \n",
       "4         5  ['IPR001697', 'IPR005814', 'IPR000456', 'IPR00...   \n",
       "5         6  ['IPR036890', 'IPR005814', 'IPR003594', 'IPR00...   \n",
       "6         7  ['domain', 'superfamily', 'Pyruvate', 'protein...   \n",
       "7         8  ['GAF', 'TipAS', 'biosynthesis,', 'isomerase',...   \n",
       "8         9  ['superfamily', 'kinase/HSP90-like', 'ATPase',...   \n",
       "9        10                                0.14455840022857916   \n",
       "\n",
       "                                            Explains  \n",
       "0  == Physical Plan ==AdaptiveSparkPlan isFinalPl...  \n",
       "1  == Physical Plan ==AdaptiveSparkPlan isFinalPl...  \n",
       "2  == Physical Plan ==AdaptiveSparkPlan isFinalPl...  \n",
       "3  == Physical Plan ==AdaptiveSparkPlan isFinalPl...  \n",
       "4  == Physical Plan ==AdaptiveSparkPlan isFinalPl...  \n",
       "5  == Physical Plan ==AdaptiveSparkPlan isFinalPl...  \n",
       "6  == Physical Plan ==AdaptiveSparkPlan isFinalPl...  \n",
       "7  == Physical Plan ==AdaptiveSparkPlan isFinalPl...  \n",
       "8  == Physical Plan ==AdaptiveSparkPlan isFinalPl...  \n",
       "9  == Physical Plan ==AdaptiveSparkPlan isFinalPl...  "
      ]
     },
     "execution_count": 17,
     "metadata": {},
     "output_type": "execute_result"
    }
   ],
   "source": [
    "test = pd.read_csv('assignment5.csv')\n",
    "test"
   ]
  },
  {
   "cell_type": "code",
   "execution_count": null,
   "id": "b0f56620",
   "metadata": {},
   "outputs": [],
   "source": []
  }
 ],
 "metadata": {
  "kernelspec": {
   "display_name": "Python 3 (ipykernel)",
   "language": "python",
   "name": "python3"
  },
  "language_info": {
   "codemirror_mode": {
    "name": "ipython",
    "version": 3
   },
   "file_extension": ".py",
   "mimetype": "text/x-python",
   "name": "python",
   "nbconvert_exporter": "python",
   "pygments_lexer": "ipython3",
   "version": "3.9.7"
  }
 },
 "nbformat": 4,
 "nbformat_minor": 5
}
