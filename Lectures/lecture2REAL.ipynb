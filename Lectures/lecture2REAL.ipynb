{
 "cells": [
  {
   "cell_type": "markdown",
   "metadata": {
    "slideshow": {
     "slide_type": "slide"
    }
   },
   "source": [
    "# Programming 3: Lecture 2\n",
    "## Crossing the wires:\n",
    "## How to spread your computation over more than one computer"
   ]
  },
  {
   "cell_type": "code",
   "execution_count": 1,
   "metadata": {
    "slideshow": {
     "slide_type": "skip"
    }
   },
   "outputs": [],
   "source": [
    "import multiprocessing as mp\n",
    "from multiprocessing.managers import BaseManager, SyncManager\n",
    "import os, sys, time, queue"
   ]
  },
  {
   "cell_type": "markdown",
   "metadata": {
    "slideshow": {
     "slide_type": "slide"
    }
   },
   "source": [
    "# Distributed Computing over the Network\n",
    "## If you can't get enough cores in one computer, get more computers!\n",
    "* Most serious distributed computing problems can't be solved using the processors in only one computer\n",
    "* Computer clusters of homogeneous resources (ie. computers of roughly the same type) are used in practice\n",
    "* In addition to the sheer _number_ of compute resources, _reliability_ is also a key concern"
   ]
  },
  {
   "cell_type": "markdown",
   "metadata": {
    "slideshow": {
     "slide_type": "slide"
    }
   },
   "source": [
    "# Network concepts\n",
    "* You can communicate over the network using TCP/IP \"packets\": items of data of fixed length\n",
    "* The TCP/IP protocol guarantees that the packets are routed to the correct destination\n",
    "* It also makes sure that large datasets are split into multiple packets, and they are guaranteed to arrive, and reassembled\n",
    "* It presents itself to the programmer as two \"sockets\" (unique IP address and PORT combination) and acts like it is a file (\"IO Stream\")\n",
    "* You can use this abstraction directly using the Python \"socket\" module and read and write data between Python programs on different computers\n",
    "* We will be going one step higher in the abstraction hierarchy though"
   ]
  },
  {
   "cell_type": "markdown",
   "metadata": {
    "slideshow": {
     "slide_type": "slide"
    }
   },
   "source": [
    "## Defining a Manager\n",
    "* The Manager is a \"proxy object\"; it offers access to shared resources under one name\n",
    "* Confusingly, given this primary function, it is also what you use to communicate over the network!\n",
    "* It can \"listen\" and \"connect\" on a TCP/IP socket; a unique IP and PORT combination\n",
    "* You need to define it twice: on each \"end\" of a connection (or \"in the middle\" if you are using a one-to-many approach as we do here\")\n",
    "* This may be a good point to explain different distributed computing \"cluster topologies\"..."
   ]
  },
  {
   "cell_type": "markdown",
   "metadata": {
    "slideshow": {
     "slide_type": "slide"
    }
   },
   "source": [
    "# Back to that manager thingie..."
   ]
  },
  {
   "cell_type": "code",
   "execution_count": 2,
   "metadata": {
    "slideshow": {
     "slide_type": "slide"
    }
   },
   "outputs": [],
   "source": [
    "def make_server_manager(port, authkey):\n",
    "    \"\"\" Create a manager for the server, listening on the given port.\n",
    "        Return a manager object with get_job_q and get_result_q methods.\n",
    "    \"\"\"\n",
    "    job_q = queue.Queue()\n",
    "    result_q = queue.Queue()\n",
    "\n",
    "    # This is based on the examples in the official docs of multiprocessing.\n",
    "    # get_{job|result}_q return synchronized proxies for the actual Queue\n",
    "    # objects.\n",
    "    class QueueManager(BaseManager):\n",
    "        pass\n",
    "\n",
    "    QueueManager.register('get_job_q', callable=lambda: job_q)\n",
    "    QueueManager.register('get_result_q', callable=lambda: result_q)\n",
    "\n",
    "    manager = QueueManager(address=('', port), authkey=authkey)\n",
    "    manager.start()\n",
    "    print('Server started at port %s' % port)\n",
    "    return manager"
   ]
  },
  {
   "cell_type": "code",
   "execution_count": 3,
   "metadata": {
    "slideshow": {
     "slide_type": "slide"
    }
   },
   "outputs": [],
   "source": [
    "def runserver(fn, data):\n",
    "    # Start a shared manager server and access its queues\n",
    "    manager = make_server_manager(PORTNUM, b'whathasitgotinitspocketsesss?')\n",
    "    shared_job_q = manager.get_job_q()\n",
    "    shared_result_q = manager.get_result_q()\n",
    "    \n",
    "    if not data:\n",
    "        print(\"Gimme something to do here!\")\n",
    "        return\n",
    "    \n",
    "    print(\"Sending data!\")\n",
    "    for d in data:\n",
    "        shared_job_q.put({'fn' : fn, 'arg' : d})\n",
    "    \n",
    "    time.sleep(2)  \n",
    "    \n",
    "    results = []\n",
    "    while True:\n",
    "        try:\n",
    "            result = shared_result_q.get_nowait()\n",
    "            results.append(result)\n",
    "            print(\"Got result!\", result)\n",
    "            if len(results) == len(data):\n",
    "                print(\"Got all results!\")\n",
    "                break\n",
    "        except queue.Empty:\n",
    "            time.sleep(1)\n",
    "            continue\n",
    "    # Tell the client process no more data will be forthcoming\n",
    "    print(\"Time to kill some peons!\")\n",
    "    shared_job_q.put(POISONPILL)\n",
    "    # Sleep a bit before shutting down the server - to give clients time to\n",
    "    # realize the job queue is empty and exit in an orderly way.\n",
    "    time.sleep(5)\n",
    "    print(\"Aaaaaand we're done for the server!\")\n",
    "    manager.shutdown()\n",
    "    print(results)"
   ]
  },
  {
   "cell_type": "code",
   "execution_count": 4,
   "metadata": {
    "slideshow": {
     "slide_type": "slide"
    }
   },
   "outputs": [],
   "source": [
    "def make_client_manager(ip, port, authkey):\n",
    "    \"\"\" Create a manager for a client. This manager connects to a server on the\n",
    "        given address and exposes the get_job_q and get_result_q methods for\n",
    "        accessing the shared queues from the server.\n",
    "        Return a manager object.\n",
    "    \"\"\"\n",
    "    class ServerQueueManager(BaseManager):\n",
    "        pass\n",
    "\n",
    "    ServerQueueManager.register('get_job_q')\n",
    "    ServerQueueManager.register('get_result_q')\n",
    "\n",
    "    manager = ServerQueueManager(address=(ip, port), authkey=authkey)\n",
    "    manager.connect()\n",
    "\n",
    "    print('Client connected to %s:%s' % (ip, port))\n",
    "    return manager"
   ]
  },
  {
   "cell_type": "markdown",
   "metadata": {
    "slideshow": {
     "slide_type": "slide"
    }
   },
   "source": [
    "# About the clients\n",
    "## So we've got communications, what do we do with it?\n",
    "* We've got Queue's to stuff full of work to do... but who's going to do _what_ ?\n",
    "* Well... we can pass anything that _pickles_ (serializes) between processes\n",
    "* Top-level functions and classes can be _pickled_ !\n",
    "* So let's just pass the function that needs to be applied right along with the data!"
   ]
  },
  {
   "cell_type": "code",
   "execution_count": 5,
   "metadata": {
    "slideshow": {
     "slide_type": "slide"
    }
   },
   "outputs": [],
   "source": [
    "def capitalize(word):\n",
    "    \"\"\"Capitalizes the word you pass in and returns it\"\"\"\n",
    "    return word.upper()"
   ]
  },
  {
   "cell_type": "markdown",
   "metadata": {
    "slideshow": {
     "slide_type": "slide"
    }
   },
   "source": [
    "## OK, I've got a function, now glue it all together\n",
    "* We need to start a number of clients running "
   ]
  },
  {
   "cell_type": "code",
   "execution_count": 6,
   "metadata": {},
   "outputs": [],
   "source": [
    "def runclient(num_processes):\n",
    "    manager = make_client_manager(IP, PORTNUM, AUTHKEY)\n",
    "    job_q = manager.get_job_q()\n",
    "    result_q = manager.get_result_q()\n",
    "    run_workers(job_q, result_q, num_processes)\n",
    "    \n",
    "def run_workers(job_q, result_q, num_processes):\n",
    "    processes = []\n",
    "    for p in range(num_processes):\n",
    "        temP = mp.Process(target=peon, args=(job_q, result_q))\n",
    "        processes.append(temP)\n",
    "        temP.start()\n",
    "    print(\"Started %s workers!\" % len(processes))\n",
    "    for temP in processes:\n",
    "        temP.join()\n",
    "\n",
    "def peon(job_q, result_q):\n",
    "    my_name = mp.current_process().name\n",
    "    while True:\n",
    "        try:\n",
    "            job = job_q.get_nowait()\n",
    "            if job == POISONPILL:\n",
    "                job_q.put(POISONPILL)\n",
    "                print(\"Aaaaaaargh\", my_name)\n",
    "                return\n",
    "            else:\n",
    "                try:\n",
    "                    result = job['fn'](job['arg'])\n",
    "                    print(\"Peon %s Workwork on %s!\" % (my_name, job['arg']))\n",
    "                    result_q.put({'job': job, 'result' : result})\n",
    "                except NameError:\n",
    "                    print(\"Can't find yer fun Bob!\")\n",
    "                    result_q.put({'job': job, 'result' : ERROR})\n",
    "\n",
    "        except queue.Empty:\n",
    "            print(\"sleepytime for\", my_name)\n",
    "            time.sleep(1)"
   ]
  },
  {
   "cell_type": "code",
   "execution_count": 7,
   "metadata": {
    "slideshow": {
     "slide_type": "slide"
    }
   },
   "outputs": [],
   "source": [
    "POISONPILL = \"MEMENTOMORI\"\n",
    "ERROR = \"DOH\"\n",
    "IP = ''\n",
    "PORTNUM = 5381\n",
    "AUTHKEY = b'whathasitgotinitspocketsesss?'\n",
    "data = [\"Always\", \"look\", \"on\", \"the\", \"bright\", \"side\", \"of\", \"life!\"]"
   ]
  },
  {
   "cell_type": "code",
   "execution_count": 8,
   "metadata": {
    "slideshow": {
     "slide_type": "slide"
    }
   },
   "outputs": [
    {
     "name": "stdout",
     "output_type": "stream",
     "text": [
      "Server started at port 5381\n",
      "Sending data!\n",
      "Client connected to :5381\n",
      "Started 4 workers!\n",
      "Peon Process-2:1 Workwork on Always!\n",
      "Peon Process-2:1 Workwork on on!Peon Process-2:2 Workwork on look!\n",
      "Peon Process-2:3 Workwork on bright!Peon Process-2:1 Workwork on side!\n",
      "\n",
      "\n",
      "Peon Process-2:3 Workwork on of!\n",
      "Peon Process-2:2 Workwork on life!!Peon Process-2:4 Workwork on the!\n",
      "sleepytime forsleepytime for\n",
      " sleepytime forsleepytime for Process-2:4 Process-2:1\n",
      "Process-2:2 \n",
      "Process-2:3\n",
      "\n",
      "Got result! {'job': {'fn': <function capitalize at 0x7f77f8033d30>, 'arg': 'Always'}, 'result': 'ALWAYS'}\n",
      "Got result! {'job': {'fn': <function capitalize at 0x7f77f8033d30>, 'arg': 'on'}, 'result': 'ON'}\n",
      "Got result! {'job': {'fn': <function capitalize at 0x7f77f8033d30>, 'arg': 'bright'}, 'result': 'BRIGHT'}\n",
      "Got result! {'job': {'fn': <function capitalize at 0x7f77f8033d30>, 'arg': 'look'}, 'result': 'LOOK'}\n",
      "Got result! {'job': {'fn': <function capitalize at 0x7f77f8033d30>, 'arg': 'side'}, 'result': 'SIDE'}\n",
      "Got result! {'job': {'fn': <function capitalize at 0x7f77f8033d30>, 'arg': 'of'}, 'result': 'OF'}\n",
      "Got result! {'job': {'fn': <function capitalize at 0x7f77f8033d30>, 'arg': 'the'}, 'result': 'THE'}\n",
      "Got result! {'job': {'fn': <function capitalize at 0x7f77f8033d30>, 'arg': 'life!'}, 'result': 'LIFE!'}\n",
      "Got all results!\n",
      "Time to kill some peons!\n",
      "AaaaaaarghAaaaaaargh Process-2:4\n",
      "Aaaaaaargh AaaaaaarghProcess-2:2 \n",
      "Process-2:3\n",
      " Process-2:1\n",
      "Aaaaaand we're done for the server!\n",
      "[{'job': {'fn': <function capitalize at 0x7f77f8033d30>, 'arg': 'Always'}, 'result': 'ALWAYS'}, {'job': {'fn': <function capitalize at 0x7f77f8033d30>, 'arg': 'on'}, 'result': 'ON'}, {'job': {'fn': <function capitalize at 0x7f77f8033d30>, 'arg': 'bright'}, 'result': 'BRIGHT'}, {'job': {'fn': <function capitalize at 0x7f77f8033d30>, 'arg': 'look'}, 'result': 'LOOK'}, {'job': {'fn': <function capitalize at 0x7f77f8033d30>, 'arg': 'side'}, 'result': 'SIDE'}, {'job': {'fn': <function capitalize at 0x7f77f8033d30>, 'arg': 'of'}, 'result': 'OF'}, {'job': {'fn': <function capitalize at 0x7f77f8033d30>, 'arg': 'the'}, 'result': 'THE'}, {'job': {'fn': <function capitalize at 0x7f77f8033d30>, 'arg': 'life!'}, 'result': 'LIFE!'}]\n"
     ]
    }
   ],
   "source": [
    "server = mp.Process(target=runserver, args=(capitalize, data))\n",
    "server.start()\n",
    "time.sleep(1)\n",
    "client = mp.Process(target=runclient, args=(4,))\n",
    "client.start()\n",
    "server.join()\n",
    "client.join()"
   ]
  },
  {
   "cell_type": "markdown",
   "metadata": {
    "slideshow": {
     "slide_type": "slide"
    }
   },
   "source": [
    "# Opdracht 3\n",
    "## You wanted more? You get more!\n",
    "* Gegeven het skelet dat ik hier heb geschetst, pas je Opdracht 1 zo aan dat:\n",
    "    * Je het FastQ file op meerdere computers verwerkt\n",
    "        * Je moet je script met een \"-c\" of \"-s\" optie duidelijk maken of deze in \"server\" of \"client\" modus start\n",
    "        * M.a.w. of je vanuit de main() \"runserver\" of \"runclient\" aanroept.\n",
    "        * Clients start je met de hand op een aantal binXXX of nucXXX computers op het netwerk. (tmux!)\n",
    "        * Met de \"-h\" optie geef je aan welke host de server draait.\n",
    "        * NB in eerste instantie kun je dit dus op 1 lokale computer doen door \"-h localhost\" te specificeren.\n",
    "    * Probeer nu, als je dat al niet deed, het file in de _workers_ te openen. Duizenden regels over een networked Queue sturen werkt niet!\n",
    "* Zie voor gedetailleerde command line en deliverables de Assignment in MS Teams."
   ]
  },
  {
   "cell_type": "markdown",
   "metadata": {
    "slideshow": {
     "slide_type": "slide"
    }
   },
   "source": []
  },
  {
   "cell_type": "markdown",
   "metadata": {
    "slideshow": {
     "slide_type": "slide"
    }
   },
   "source": [
    "# Questions?"
   ]
  },
  {
   "cell_type": "code",
   "execution_count": null,
   "metadata": {},
   "outputs": [],
   "source": []
  }
 ],
 "metadata": {
  "celltoolbar": "Slideshow",
  "kernelspec": {
   "display_name": "Python 3 (ipykernel)",
   "language": "python",
   "name": "python3"
  },
  "language_info": {
   "codemirror_mode": {
    "name": "ipython",
    "version": 3
   },
   "file_extension": ".py",
   "mimetype": "text/x-python",
   "name": "python",
   "nbconvert_exporter": "python",
   "pygments_lexer": "ipython3",
   "version": "3.8.12"
  }
 },
 "nbformat": 4,
 "nbformat_minor": 4
}
