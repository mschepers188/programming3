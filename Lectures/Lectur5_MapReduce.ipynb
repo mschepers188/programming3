{
 "cells": [
  {
   "cell_type": "markdown",
   "metadata": {
    "slideshow": {
     "slide_type": "subslide"
    }
   },
   "source": [
    "# Lecture 5A: MapReduce\n",
    "## Introduction to the paradigm\n",
    "### Martijn Herber Hanzehogeschool Groningen"
   ]
  },
  {
   "cell_type": "markdown",
   "metadata": {
    "slideshow": {
     "slide_type": "slide"
    }
   },
   "source": [
    "# MapReduce is a Programming Paradigm\n",
    "## What's a paradigm?\n",
    "* You have experience with \"custom\" parallellization...\n",
    "* ...but it's a lot of hard work\n",
    "* What if setting up your computation could be easier?\n",
    "    * Automatic, even?\n",
    "* That requires a new way of structuring your problem and data... Paradigm shift!"
   ]
  },
  {
   "cell_type": "markdown",
   "metadata": {
    "slideshow": {
     "slide_type": "slide"
    }
   },
   "source": [
    "# So... what's the paradigm?\n",
    "* _IF_ you can structure your data into equal units...\n",
    "* ...that you can apply an operation to... the Map()\n",
    "* ...Without interdependencies...\n",
    "* ...and you can combine the results using one other operation... the Reduce()\n",
    "* MapReduce can take these operations and take care of the rest"
   ]
  },
  {
   "cell_type": "markdown",
   "metadata": {
    "slideshow": {
     "slide_type": "slide"
    }
   },
   "source": [
    "# In pseudocode:\n",
    "## Input & Output: each a set of key/value pairs\n",
    "\n",
    "## map(in_key, in_value) -> list(out_key, intermediate_value)\n",
    "* Processes input key/value pair\n",
    "* Produces set of intermediate pairs\n",
    "## reduce(out_key, list(intermediate_value)) -> list(out_value)\n",
    "* Combines all intermediate values of a particular key\n",
    "* Produces a set of merged output values (perhaps just one)"
   ]
  },
  {
   "cell_type": "markdown",
   "metadata": {
    "slideshow": {
     "slide_type": "slide"
    }
   },
   "source": [
    "# Mapping\n",
    "* Mapping is simply applying a function to the data.\n",
    "* The data can be simple (a string) or complex (an object) but it needs to be _homogeneous_\n",
    "* It is associated with a key, which may or may not be useful\n",
    "    * Eg. a filename or line number is not used further\n",
    "    * A word literal or codon is\n",
    "* The data needs to have no interdependencies\n",
    "    * I.e. processing file 1 doesn't require info from file 2's calculation"
   ]
  },
  {
   "cell_type": "markdown",
   "metadata": {
    "slideshow": {
     "slide_type": "slide"
    }
   },
   "source": [
    "# Reducing\n",
    "* The reduce function is called on completed mappings\n",
    "* It may do nothing!\n",
    "    * except return the data to the calling program!\n",
    "* It tends to aggregate data based on the mapping's key\n",
    "    * I.e. word frequency\n",
    "* It is scheduled _separately_ from mapping\n",
    "    * And uses a different datastore"
   ]
  },
  {
   "cell_type": "markdown",
   "metadata": {
    "slideshow": {
     "slide_type": "slide"
    }
   },
   "source": [
    "# What kind of tasks?\n",
    "* Word Count\n",
    "* Word Histogram\n",
    "* Pattern Search (grep)\n",
    "* Reverse index / Reverse Graph\n",
    "* Sorting\n",
    "* Matrix Multiplication\n",
    "\n",
    "## What can you think of?\n",
    "* For next lecture: \n",
    "    * Read the original MapReduce Paper by Ghemawat et al\n",
    "    * Think of a job in the context of Omics 2 that fits the MapReduce Paradigm\n",
    "    * (In 1 slide) Present this job"
   ]
  },
  {
   "cell_type": "code",
   "execution_count": 1,
   "metadata": {
    "slideshow": {
     "slide_type": "slide"
    }
   },
   "outputs": [],
   "source": [
    "import json\n",
    "import sys \n",
    "\n",
    "class MapReduce:\n",
    "    def __init__(self):\n",
    "        self.intermediate = {}\n",
    "        self.result = []\n",
    "\n",
    "    def emit_intermediate(self, key, value):\n",
    "        self.intermediate.setdefault(key, [])\n",
    "        self.intermediate[key].append(value)\n",
    "\n",
    "    def emit(self, value):\n",
    "        self.result.append(value) \n",
    "\n",
    "    def execute(self, data, mapper, reducer):\n",
    "        for line in data:\n",
    "            record = json.loads(line)\n",
    "            mapper(record)\n",
    "\n",
    "        for key in self.intermediate:\n",
    "            reducer(key, self.intermediate[key])\n",
    "        \n",
    "        #this should be overwritten with the actual action to do with the output\n",
    "        for item in self.result:\n",
    "            pass\n",
    "            # print, write or do something to output"
   ]
  },
  {
   "cell_type": "code",
   "execution_count": null,
   "metadata": {
    "scrolled": true,
    "slideshow": {
     "slide_type": "slide"
    }
   },
   "outputs": [],
   "source": [
    "def mapper(record):\n",
    "    value = 0 # some map function of record\n",
    "    mr.emit_intermediate(value, 1) #emit the intermediate value \n",
    "\n",
    "def reducer(key, list_of_values):\n",
    "    result = 0 # some reduce function\n",
    "    mr.emit((result)) #emit the result\n",
    "    \n",
    "## Basic usage example\n",
    "mr = MapReduce()\n",
    "mr.execute('path_to_data', mapper, reducer)"
   ]
  },
  {
   "cell_type": "markdown",
   "metadata": {
    "slideshow": {
     "slide_type": "slide"
    }
   },
   "source": [
    "# Map reduce phases\n",
    "<img src=\"phases.png\">"
   ]
  },
  {
   "cell_type": "markdown",
   "metadata": {
    "slideshow": {
     "slide_type": "slide"
    }
   },
   "source": [
    "# Seminal 2004 Paper by Dean & Ghemawat (Google)\n",
    "<img src=\"mapreduce_system.png\">\n",
    "In code the fundamental operations are:"
   ]
  },
  {
   "cell_type": "markdown",
   "metadata": {
    "slideshow": {
     "slide_type": "slide"
    }
   },
   "source": [
    "# Implementation\n",
    "* There is one master node\n",
    "* Master partitions input file into M splits, by key\n",
    "* Master assings workers to the M map tasks, keeps tabs on them\n",
    "* Workers write their output to local disk, partition into R regions\n",
    "* Master assigns workers to the R reduce tasks\n",
    "* Reduce workers read regions from the map worker's disks"
   ]
  },
  {
   "cell_type": "markdown",
   "metadata": {
    "slideshow": {
     "slide_type": "slide"
    }
   },
   "source": [
    "# Hadoop: An open source implementation\n",
    "<img src=\"hadoop.png\">"
   ]
  },
  {
   "cell_type": "markdown",
   "metadata": {
    "slideshow": {
     "slide_type": "slide"
    }
   },
   "source": [
    "# Our implementation\n",
    "* We will base it on Assignment 3\n",
    "* We will use the filesystem for data, Queue's for tasks\n",
    "* We will pass the functions around generically\n",
    "* We will use the generic iterator interface to iterate over data\n",
    "* The Server will dole out tasks in multiple Queue's"
   ]
  },
  {
   "cell_type": "markdown",
   "metadata": {
    "slideshow": {
     "slide_type": "slide"
    }
   },
   "source": [
    "# Iterators\n",
    "## You can make anything behave like an iterable by returning an _iterator_\n",
    "## Thanks to Python's Duck Typing (\"If it quack's like a duck...\") there is no semantic or syntactic difference\n",
    "## Just implement the __iter__ and __next__ methods."
   ]
  },
  {
   "cell_type": "code",
   "execution_count": 5,
   "metadata": {
    "slideshow": {
     "slide_type": "skip"
    }
   },
   "outputs": [],
   "source": [
    "import re, reprlib\n",
    "RE_WORD = re.compile('\\w+')"
   ]
  },
  {
   "cell_type": "code",
   "execution_count": 11,
   "metadata": {
    "slideshow": {
     "slide_type": "slide"
    }
   },
   "outputs": [],
   "source": [
    "class Sentence:\n",
    "    def __init__(self, text):\n",
    "        self.text = text\n",
    "        self.words = re.compile('\\w+').findall(text)\n",
    "        \n",
    "    def __repr__(self):\n",
    "        return 'Sentence(%s)' % reprlib.repr(self.text)\n",
    "    \n",
    "    def __iter__(self):\n",
    "        return SentenceIterator(self.words)\n",
    "\n",
    "    def __len__(self):\n",
    "        return len(self.words)"
   ]
  },
  {
   "cell_type": "code",
   "execution_count": 7,
   "metadata": {
    "slideshow": {
     "slide_type": "slide"
    }
   },
   "outputs": [],
   "source": [
    "class SentenceIterator:\n",
    "    def __init__(self, words):\n",
    "        self.words = words\n",
    "        self.index = 0\n",
    "        \n",
    "    def __next__(self):\n",
    "        try:\n",
    "            word = self.words[self.index]\n",
    "        except IndexError:\n",
    "            raise StopIteration()\n",
    "            \n",
    "        self.index += 1\n",
    "        return word\n",
    "    \n",
    "    def __iter__(self):\n",
    "        return self"
   ]
  },
  {
   "cell_type": "code",
   "execution_count": 12,
   "metadata": {},
   "outputs": [
    {
     "name": "stdout",
     "output_type": "stream",
     "text": [
      "Four\n",
      "score\n",
      "and\n",
      "seven\n",
      "years\n",
      "ago\n",
      "our\n",
      "fathers\n",
      "brought\n",
      "forth\n",
      "on\n",
      "this\n",
      "continent\n",
      "a\n",
      "new\n",
      "nation\n",
      "conceived\n",
      "in\n",
      "Liberty\n",
      "and\n",
      "dedicated\n",
      "to\n",
      "the\n",
      "proposition\n",
      "that\n",
      "all\n",
      "men\n",
      "are\n",
      "created\n",
      "equal\n",
      "said\n",
      "Old\n",
      "Abe\n"
     ]
    }
   ],
   "source": [
    "s = Sentence('\"Four score and seven years ago our fathers brought forth on this continent, a new nation, conceived in Liberty, and dedicated to the proposition that all men are created equal.\" said Old Abe')\n",
    "for word in s:\n",
    "    print(word)\n"
   ]
  },
  {
   "cell_type": "code",
   "execution_count": 13,
   "metadata": {
    "slideshow": {
     "slide_type": "slide"
    }
   },
   "outputs": [
    {
     "data": {
      "text/plain": [
       "['Four',\n",
       " 'score',\n",
       " 'and',\n",
       " 'seven',\n",
       " 'years',\n",
       " 'ago',\n",
       " 'our',\n",
       " 'fathers',\n",
       " 'brought',\n",
       " 'forth',\n",
       " 'on',\n",
       " 'this',\n",
       " 'continent',\n",
       " 'a',\n",
       " 'new',\n",
       " 'nation',\n",
       " 'conceived',\n",
       " 'in',\n",
       " 'Liberty',\n",
       " 'and',\n",
       " 'dedicated',\n",
       " 'to',\n",
       " 'the',\n",
       " 'proposition',\n",
       " 'that',\n",
       " 'all',\n",
       " 'men',\n",
       " 'are',\n",
       " 'created',\n",
       " 'equal',\n",
       " 'said',\n",
       " 'Old',\n",
       " 'Abe']"
      ]
     },
     "execution_count": 13,
     "metadata": {},
     "output_type": "execute_result"
    }
   ],
   "source": [
    "list(s)"
   ]
  },
  {
   "cell_type": "code",
   "execution_count": null,
   "metadata": {},
   "outputs": [],
   "source": []
  }
 ],
 "metadata": {
  "celltoolbar": "Slideshow",
  "kernelspec": {
   "display_name": "Python 3 (ipykernel)",
   "language": "python",
   "name": "python3"
  },
  "language_info": {
   "codemirror_mode": {
    "name": "ipython",
    "version": 3
   },
   "file_extension": ".py",
   "mimetype": "text/x-python",
   "name": "python",
   "nbconvert_exporter": "python",
   "pygments_lexer": "ipython3",
   "version": "3.8.12"
  }
 },
 "nbformat": 4,
 "nbformat_minor": 4
}
