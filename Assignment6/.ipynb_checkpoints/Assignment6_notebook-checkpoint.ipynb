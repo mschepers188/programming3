{
 "cells": [
  {
   "cell_type": "code",
   "execution_count": 1,
   "id": "60410a58",
   "metadata": {},
   "outputs": [],
   "source": [
    "from pyspark.sql.session import SparkSession\n",
    "from pyspark.sql.functions import *\n",
    "from pyspark.sql.types import StructType, StructField, IntegerType, StringType,FloatType\n",
    "import pyspark.sql.functions as f\n",
    "import pandas as pd\n",
    "import os\n",
    "from sklearn.preprocessing import OneHotEncoder\n",
    "from sklearn.compose import make_column_transformer\n",
    "from sklearn.feature_extraction.text import CountVectorizer"
   ]
  },
  {
   "cell_type": "markdown",
   "id": "1d01b426",
   "metadata": {},
   "source": [
    "# Links\n",
    "\n",
    "* https://www.hackdeploy.com/pyspark-one-hot-encoding-with-countvectorizer/\n",
    "* https://techinplanet.com/split-lists-in-a-column-into-one-hot-encoded-features-in-pyspark/\n",
    "* https://spark.apache.org/docs/3.1.1/api/python/reference/api/pyspark.ml.feature.OneHotEncoder.html\n",
    "* https://towardsdatascience.com/countvectorizer-hashingtf-e66f169e2d4e\n"
   ]
  },
  {
   "cell_type": "code",
   "execution_count": 2,
   "id": "ea4a06db",
   "metadata": {},
   "outputs": [
    {
     "name": "stdout",
     "output_type": "stream",
     "text": [
      "Creating output folder\n",
      "Starting session\n",
      "Loading in file\n",
      "File loaded\n"
     ]
    }
   ],
   "source": [
    "class PSTool:\n",
    "    def __init__(self):\n",
    "        print('Creating output folder')\n",
    "        if os.path.exists('output'):\n",
    "            pass\n",
    "        else:\n",
    "            os.makedirs('output')\n",
    "\n",
    "    def pyspark_session(self, host_location):\n",
    "        \"\"\"\n",
    "        Creates and returns spark session object\n",
    "        \"\"\"\n",
    "        print('Starting session')\n",
    "        sc = SparkContext(host_location)  # Create spark context\n",
    "        spark = SparkSession(sc)  # Create session\n",
    "        return spark\n",
    "\n",
    "    def file_loader(self, path, delim, spark_obj, schema):\n",
    "        print('Loading in file')\n",
    "        data = spark_obj.read.options(delimiter=delim).option(\"header\",\"False\").csv(path, schema=schema)\n",
    "        \n",
    "        print('File loaded')\n",
    "        return data\n",
    "\n",
    "    def get_questions(self, df):\n",
    "        pass\n",
    "\n",
    "if __name__ == \"__main__\":\n",
    "    pstool = PSTool()  # Instanciate object\n",
    "    spk = pstool.pyspark_session('local[16]')  # start session\n",
    "    # load data\n",
    "#     path = '/data/dataprocessing/interproscan/all_bacilli.tsv'\n",
    "    path = 'all_bacilli_subset.tsv'\n",
    "    schema = StructType([\n",
    "        StructField(\"Protein_accession\", StringType(), True),\n",
    "        StructField(\"Sequence_MD5_digest\", StringType(), True),\n",
    "        StructField(\"Sequence_length\", IntegerType(), True),\n",
    "        StructField(\"Analysis\", StringType(), True),\n",
    "        StructField(\"Signature_accession\", StringType(), True),\n",
    "        StructField(\"Signature_description\", StringType(), True),\n",
    "        StructField(\"Start_location\", IntegerType(), True),\n",
    "        StructField(\"Stop_location\", IntegerType(), True),\n",
    "        StructField(\"Score\", FloatType(), True),\n",
    "        StructField(\"Status\", StringType(), True),\n",
    "        StructField(\"Date\", StringType(), True),\n",
    "        StructField(\"InterPro_annotations_accession\", StringType(), True),\n",
    "        StructField(\"InterPro_annotations_description\", StringType(), True),\n",
    "        StructField(\"GO_annotations\", StringType(), True),\n",
    "        StructField(\"Pathways_annotations\", StringType(), True)])\n",
    "    \n",
    "    df = pstool.file_loader(path, '\\t', spk, schema)\n",
    "#     pstool.get_questions(df)\n",
    "#     print('Closing spark session')\n",
    "#     spk.sparkContext.stop()\n",
    "#     df.printSchema()  # Shows column names and some info\n"
   ]
  },
  {
   "cell_type": "code",
   "execution_count": 3,
   "id": "2d392b7b",
   "metadata": {},
   "outputs": [
    {
     "name": "stdout",
     "output_type": "stream",
     "text": [
      "len: 15\n",
      "count: 200\n"
     ]
    }
   ],
   "source": [
    "print('len:', len(df.columns))\n",
    "print('count:' , df.count())"
   ]
  },
  {
   "cell_type": "code",
   "execution_count": 4,
   "id": "7a51d1c9",
   "metadata": {},
   "outputs": [
    {
     "data": {
      "text/plain": [
       "DataFrame[Protein_accession: string, Sequence_MD5_digest: string, Sequence_length: int, Analysis: string, Signature_accession: string, Signature_description: string, Start_location: int, Stop_location: int, Score: float, Status: string, Date: string, InterPro_annotations_accession: string, InterPro_annotations_description: string, GO_annotations: string, Pathways_annotations: string]"
      ]
     },
     "execution_count": 4,
     "metadata": {},
     "output_type": "execute_result"
    }
   ],
   "source": [
    "df"
   ]
  },
  {
   "cell_type": "markdown",
   "id": "bc446aae",
   "metadata": {},
   "source": [
    "# Data munging\n",
    "\n",
    "First, the data has to be munged. \n",
    "* Remove entries without InterPRO number\n",
    "* Note which proteins features are >90% size of the protein and remove them. \"ProtID_select\"\n",
    "* Select the smaller features for the above found proteins. Proteins without large feature do not matter."
   ]
  },
  {
   "cell_type": "code",
   "execution_count": 5,
   "id": "375c16a9",
   "metadata": {},
   "outputs": [],
   "source": [
    "IPRO_filt = df.filter(df[\"InterPro_annotations_accession\"] != '-')"
   ]
  },
  {
   "cell_type": "code",
   "execution_count": 6,
   "id": "6dde0d8a",
   "metadata": {},
   "outputs": [
    {
     "name": "stdout",
     "output_type": "stream",
     "text": [
      "len: 15\n",
      "count: 108\n"
     ]
    }
   ],
   "source": [
    "print('len:', len(IPRO_filt.columns))\n",
    "print('count:' , IPRO_filt.count())"
   ]
  },
  {
   "cell_type": "code",
   "execution_count": 7,
   "id": "15359443",
   "metadata": {},
   "outputs": [],
   "source": [
    "df_sizes = IPRO_filt.withColumn('perc', abs(df.Start_location - df.Stop_location) / df.Sequence_length).sort('perc')"
   ]
  },
  {
   "cell_type": "code",
   "execution_count": 8,
   "id": "65c23081",
   "metadata": {},
   "outputs": [
    {
     "name": "stdout",
     "output_type": "stream",
     "text": [
      "+--------------------+\n",
      "|   Protein_accession|\n",
      "+--------------------+\n",
      "|gi|29898233|gb|AA...|\n",
      "|gi|29898233|gb|AA...|\n",
      "|gi|29898402|gb|AA...|\n",
      "|gi|29898233|gb|AA...|\n",
      "|gi|29898233|gb|AA...|\n",
      "+--------------------+\n",
      "only showing top 5 rows\n",
      "\n",
      "None\n",
      "+--------------------+\n",
      "| Sequence_MD5_digest|\n",
      "+--------------------+\n",
      "|ee3513dc80cbf281f...|\n",
      "|ee3513dc80cbf281f...|\n",
      "|b91e18b501b05d145...|\n",
      "|ee3513dc80cbf281f...|\n",
      "|ee3513dc80cbf281f...|\n",
      "+--------------------+\n",
      "only showing top 5 rows\n",
      "\n",
      "None\n",
      "+---------------+\n",
      "|Sequence_length|\n",
      "+---------------+\n",
      "|            585|\n",
      "|            585|\n",
      "|            406|\n",
      "|            585|\n",
      "|            585|\n",
      "+---------------+\n",
      "only showing top 5 rows\n",
      "\n",
      "None\n",
      "+---------------+\n",
      "|       Analysis|\n",
      "+---------------+\n",
      "|ProSitePatterns|\n",
      "|         PRINTS|\n",
      "|         PRINTS|\n",
      "|         PRINTS|\n",
      "|         PRINTS|\n",
      "+---------------+\n",
      "only showing top 5 rows\n",
      "\n",
      "None\n",
      "+-------------------+\n",
      "|Signature_accession|\n",
      "+-------------------+\n",
      "|            PS00110|\n",
      "|            PR01050|\n",
      "|            PR00344|\n",
      "|            PR01050|\n",
      "|            PR01050|\n",
      "+-------------------+\n",
      "only showing top 5 rows\n",
      "\n",
      "None\n",
      "+---------------------+\n",
      "|Signature_description|\n",
      "+---------------------+\n",
      "| Pyruvate kinase a...|\n",
      "| Pyruvate kinase f...|\n",
      "| Bacterial sensor ...|\n",
      "| Pyruvate kinase f...|\n",
      "| Pyruvate kinase f...|\n",
      "+---------------------+\n",
      "only showing top 5 rows\n",
      "\n",
      "None\n",
      "+--------------+\n",
      "|Start_location|\n",
      "+--------------+\n",
      "|           213|\n",
      "|           184|\n",
      "|           356|\n",
      "|           311|\n",
      "|            59|\n",
      "+--------------+\n",
      "only showing top 5 rows\n",
      "\n",
      "None\n",
      "+-------------+\n",
      "|Stop_location|\n",
      "+-------------+\n",
      "|          225|\n",
      "|          198|\n",
      "|          366|\n",
      "|          327|\n",
      "|           75|\n",
      "+-------------+\n",
      "only showing top 5 rows\n",
      "\n",
      "None\n",
      "+-------+\n",
      "|  Score|\n",
      "+-------+\n",
      "|   null|\n",
      "|    0.0|\n",
      "|3.4E-15|\n",
      "|    0.0|\n",
      "|    0.0|\n",
      "+-------+\n",
      "only showing top 5 rows\n",
      "\n",
      "None\n",
      "+------+\n",
      "|Status|\n",
      "+------+\n",
      "|     T|\n",
      "|     T|\n",
      "|     T|\n",
      "|     T|\n",
      "|     T|\n",
      "+------+\n",
      "only showing top 5 rows\n",
      "\n",
      "None\n",
      "+----------+\n",
      "|      Date|\n",
      "+----------+\n",
      "|25-04-2022|\n",
      "|25-04-2022|\n",
      "|25-04-2022|\n",
      "|25-04-2022|\n",
      "|25-04-2022|\n",
      "+----------+\n",
      "only showing top 5 rows\n",
      "\n",
      "None\n",
      "+------------------------------+\n",
      "|InterPro_annotations_accession|\n",
      "+------------------------------+\n",
      "|                     IPR018209|\n",
      "|                     IPR001697|\n",
      "|                     IPR004358|\n",
      "|                     IPR001697|\n",
      "|                     IPR001697|\n",
      "+------------------------------+\n",
      "only showing top 5 rows\n",
      "\n",
      "None\n",
      "+--------------------------------+\n",
      "|InterPro_annotations_description|\n",
      "+--------------------------------+\n",
      "|            Pyruvate kinase, ...|\n",
      "|                 Pyruvate kinase|\n",
      "|            Signal transducti...|\n",
      "|                 Pyruvate kinase|\n",
      "|                 Pyruvate kinase|\n",
      "+--------------------------------+\n",
      "only showing top 5 rows\n",
      "\n",
      "None\n",
      "+--------------------+\n",
      "|      GO_annotations|\n",
      "+--------------------+\n",
      "|GO:0004743|GO:000...|\n",
      "|GO:0000287|GO:000...|\n",
      "|GO:0016310|GO:001...|\n",
      "|GO:0000287|GO:000...|\n",
      "|GO:0000287|GO:000...|\n",
      "+--------------------+\n",
      "only showing top 5 rows\n",
      "\n",
      "None\n",
      "+--------------------+\n",
      "|Pathways_annotations|\n",
      "+--------------------+\n",
      "|MetaCyc: PWY-1042...|\n",
      "|MetaCyc: PWY-1042...|\n",
      "|MetaCyc: PWY-4702...|\n",
      "|MetaCyc: PWY-1042...|\n",
      "|MetaCyc: PWY-1042...|\n",
      "+--------------------+\n",
      "only showing top 5 rows\n",
      "\n",
      "None\n",
      "+--------------------+\n",
      "|                perc|\n",
      "+--------------------+\n",
      "|0.020512820512820513|\n",
      "|0.023931623931623933|\n",
      "|0.024630541871921183|\n",
      "| 0.02735042735042735|\n",
      "| 0.02735042735042735|\n",
      "+--------------------+\n",
      "only showing top 5 rows\n",
      "\n",
      "None\n"
     ]
    }
   ],
   "source": [
    "for i in df_sizes.columns:\n",
    "    print(df_sizes.select(i).show(5))"
   ]
  },
  {
   "cell_type": "code",
   "execution_count": 9,
   "id": "c9505732",
   "metadata": {},
   "outputs": [],
   "source": [
    "df_sign = df_sizes.select('Signature_description').filter(df['Signature_description'] != '-')\n",
    "df_sign_top = df_sign.withColumn('Signature_description_exp',explode(split(col('Signature_description'),' '))).groupBy('Signature_description_exp').count().sort('count', ascending = False)\n",
    "word_list = df_sign_top.select('Signature_description_exp').rdd.flatMap(lambda x: x).collect()"
   ]
  },
  {
   "cell_type": "code",
   "execution_count": 38,
   "id": "3cc45314",
   "metadata": {},
   "outputs": [
    {
     "data": {
      "text/plain": [
       "189"
      ]
     },
     "execution_count": 38,
     "metadata": {},
     "output_type": "execute_result"
    }
   ],
   "source": [
    "len(word_list)"
   ]
  },
  {
   "cell_type": "code",
   "execution_count": 37,
   "id": "78fadca2",
   "metadata": {
    "scrolled": false
   },
   "outputs": [
    {
     "name": "stdout",
     "output_type": "stream",
     "text": [
      "+--------------------+\n",
      "|         nameAsArray|\n",
      "+--------------------+\n",
      "|[Pyruvate, kinase...|\n",
      "|[Pyruvate, kinase...|\n",
      "|[Bacterial, senso...|\n",
      "|[Pyruvate, kinase...|\n",
      "|[Pyruvate, kinase...|\n",
      "+--------------------+\n",
      "only showing top 5 rows\n",
      "\n"
     ]
    }
   ],
   "source": [
    "df_array = df_sign.select(split(df.Signature_description,\" \").alias(\"nameAsArray\"))\n",
    "df_array.show(5)"
   ]
  },
  {
   "cell_type": "code",
   "execution_count": 12,
   "id": "1552a00a",
   "metadata": {},
   "outputs": [],
   "source": [
    "import copy\n",
    "df_copy = df_array.select('*')"
   ]
  },
  {
   "cell_type": "code",
   "execution_count": 13,
   "id": "37cef33c",
   "metadata": {},
   "outputs": [],
   "source": [
    "# for c in word_list:\n",
    "#     df_copy = df_copy.withColumn(c, f.array_contains(\"nameAsArray\", c).cast(\"int\"))\n",
    "# df_copy = df_copy.drop(\"nameAsArray\")"
   ]
  },
  {
   "cell_type": "code",
   "execution_count": 14,
   "id": "fd397bf0",
   "metadata": {},
   "outputs": [],
   "source": [
    "#Import Spark CountVectorizer\n",
    "# from pyspark.ml.feature import CountVectorizer"
   ]
  },
  {
   "cell_type": "code",
   "execution_count": 15,
   "id": "dd9feb50",
   "metadata": {},
   "outputs": [],
   "source": [
    "# Initialize a CountVectorizer.\n",
    "# colorVectorizer = CountVectorizer(inputCol=\"nameAsArray\", outputCol=\"OneHotEncoded\", vocabSize=500, minDF=10.0)"
   ]
  },
  {
   "cell_type": "code",
   "execution_count": 16,
   "id": "b5a3d3b9",
   "metadata": {},
   "outputs": [],
   "source": [
    "#Get a VectorizerModel\n",
    "# colorVectorizer_model = colorVectorizer.fit(df_copy)"
   ]
  },
  {
   "cell_type": "code",
   "execution_count": 21,
   "id": "2032dca0",
   "metadata": {},
   "outputs": [],
   "source": [
    "# Get term frequency vector through HashingTF\n",
    "from pyspark.ml.feature import HashingTF\n",
    "ht = HashingTF(inputCol=\"nameAsArray\", outputCol=\"features\")\n",
    "result = ht.transform(df_copy)\n",
    "# result.show(truncate=False)"
   ]
  },
  {
   "cell_type": "code",
   "execution_count": 40,
   "id": "94c0d5e8",
   "metadata": {},
   "outputs": [
    {
     "name": "stdout",
     "output_type": "stream",
     "text": [
      "+--------------------+--------------------+\n",
      "|         nameAsArray|            features|\n",
      "+--------------------+--------------------+\n",
      "|[Pyruvate, kinase...|(262144,[25702,61...|\n",
      "|[Pyruvate, kinase...|(262144,[115560,2...|\n",
      "|[Bacterial, senso...|(262144,[41004,41...|\n",
      "|[Pyruvate, kinase...|(262144,[115560,2...|\n",
      "|[Pyruvate, kinase...|(262144,[115560,2...|\n",
      "|[Pyruvate, kinase...|(262144,[115560,2...|\n",
      "|[Bacterial, senso...|(262144,[41004,41...|\n",
      "|[Bacterial, senso...|(262144,[41004,41...|\n",
      "|[Pyruvate, kinase...|(262144,[115560,2...|\n",
      "|[Pyruvate, kinase...|(262144,[115560,2...|\n",
      "|[Bacterial, senso...|(262144,[41004,41...|\n",
      "|[Pyruvate, kinase...|(262144,[115560,2...|\n",
      "|[PpiC-type, pepti...|(262144,[7386,618...|\n",
      "|[Aminotransferase...|(262144,[19690,14...|\n",
      "|[Transaminase_4ab...|(262144,[99950],[...|\n",
      "|[PEP-utilising, e...|(262144,[72259,10...|\n",
      "|[Nudix, box, sign...|(262144,[22370,61...|\n",
      "|[PK, beta-barrel,...|(262144,[33826,16...|\n",
      "|       [GAF, domain]|(262144,[78676,10...|\n",
      "|[Ribosomal, prote...|(262144,[41365,61...|\n",
      "+--------------------+--------------------+\n",
      "only showing top 20 rows\n",
      "\n"
     ]
    }
   ],
   "source": [
    "result.show()"
   ]
  },
  {
   "cell_type": "code",
   "execution_count": 22,
   "id": "bebb5aae",
   "metadata": {},
   "outputs": [
    {
     "data": {
      "text/plain": [
       "(97, 1, 262144)"
      ]
     },
     "execution_count": 22,
     "metadata": {},
     "output_type": "execute_result"
    }
   ],
   "source": [
    "import numpy as np\n",
    "x_3d = np.array(result.select('features').collect())\n",
    "x_3d.shape"
   ]
  },
  {
   "cell_type": "code",
   "execution_count": 35,
   "id": "81a3e9cf",
   "metadata": {},
   "outputs": [
    {
     "data": {
      "text/plain": [
       "262144"
      ]
     },
     "execution_count": 35,
     "metadata": {},
     "output_type": "execute_result"
    }
   ],
   "source": [
    "len(x_3d[0][0])"
   ]
  },
  {
   "cell_type": "code",
   "execution_count": 43,
   "id": "c751af91",
   "metadata": {},
   "outputs": [
    {
     "data": {
      "text/plain": [
       "(97, 262144)"
      ]
     },
     "execution_count": 43,
     "metadata": {},
     "output_type": "execute_result"
    }
   ],
   "source": [
    "reshaped = x_3d.reshape(97, -1)\n",
    "reshaped.shape"
   ]
  },
  {
   "cell_type": "code",
   "execution_count": 46,
   "id": "4304b644",
   "metadata": {},
   "outputs": [
    {
     "data": {
      "text/plain": [
       "array([0., 0., 0., ..., 0., 0., 0.])"
      ]
     },
     "execution_count": 46,
     "metadata": {},
     "output_type": "execute_result"
    }
   ],
   "source": [
    "reshaped[0]"
   ]
  },
  {
   "cell_type": "code",
   "execution_count": null,
   "id": "4ca215a1",
   "metadata": {},
   "outputs": [],
   "source": []
  }
 ],
 "metadata": {
  "kernelspec": {
   "display_name": "Python 3 (ipykernel)",
   "language": "python",
   "name": "python3"
  },
  "language_info": {
   "codemirror_mode": {
    "name": "ipython",
    "version": 3
   },
   "file_extension": ".py",
   "mimetype": "text/x-python",
   "name": "python",
   "nbconvert_exporter": "python",
   "pygments_lexer": "ipython3",
   "version": "3.9.7"
  }
 },
 "nbformat": 4,
 "nbformat_minor": 5
}
